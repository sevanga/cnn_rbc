{
 "cells": [
  {
   "cell_type": "code",
   "execution_count": 725,
   "metadata": {},
   "outputs": [],
   "source": [
    "%matplotlib inline"
   ]
  },
  {
   "cell_type": "code",
   "execution_count": 726,
   "metadata": {},
   "outputs": [],
   "source": [
    "import tensorflow as tf\n",
    "import numpy as np\n",
    "import math\n",
    "import keras\n",
    "from keras import backend as K\n",
    "from keras.layers import Activation\n",
    "from keras.models import Sequential\n",
    "from keras.layers.core import Dense, Flatten\n",
    "from keras.optimizers import Adam\n",
    "from keras.metrics import categorical_crossentropy\n",
    "from keras.preprocessing.image import ImageDataGenerator\n",
    "from keras.layers.convolutional import *\n",
    "from sklearn.metrics import confusion_matrix\n",
    "from sklearn.model_selection import train_test_split\n",
    "from keras.layers.normalization import BatchNormalization\n",
    "from keras.models import model_from_json\n",
    "import seaborn as sns\n",
    "import itertools\n",
    "import matplotlib.pyplot as plt\n",
    "import pandas as pd\n",
    "from PIL import Image\n",
    "import os\n",
    "from sklearn import mixture\n",
    "import math\n",
    "from scipy import stats\n"
   ]
  },
  {
   "cell_type": "code",
   "execution_count": 68,
   "metadata": {
    "scrolled": true
   },
   "outputs": [],
   "source": [
    "train_path = os.getcwd()+'/data/train'\n",
    "test_path = os.getcwd()+'/data/test'"
   ]
  },
  {
   "cell_type": "markdown",
   "metadata": {},
   "source": [
    "#### Batches initialisation"
   ]
  },
  {
   "cell_type": "code",
   "execution_count": 69,
   "metadata": {
    "scrolled": true
   },
   "outputs": [
    {
     "name": "stdout",
     "output_type": "stream",
     "text": [
      "Found 7600 images belonging to 3 classes.\n",
      "Found 400 images belonging to 3 classes.\n"
     ]
    }
   ],
   "source": [
    "train_batches = ImageDataGenerator().flow_from_directory(\n",
    "    train_path, \n",
    "    target_size=(90,90),\n",
    "    class_mode = \"sparse\", \n",
    "    color_mode=\"grayscale\",\n",
    "    classes=['slippers','sheareds','croissants'], \n",
    "    batch_size=128)\n",
    "\n",
    "valid_batches = ImageDataGenerator().flow_from_directory(\n",
    "    test_path, \n",
    "    target_size=(90,90),\n",
    "    class_mode = \"sparse\", \n",
    "    color_mode=\"grayscale\",\n",
    "    classes=['slippers','sheareds','croissants'], \n",
    "    batch_size=128)"
   ]
  },
  {
   "cell_type": "code",
   "execution_count": 5,
   "metadata": {},
   "outputs": [
    {
     "data": {
      "text/plain": [
       "{'slippers': 0, 'sheareds': 1, 'croissants': 2}"
      ]
     },
     "execution_count": 5,
     "metadata": {},
     "output_type": "execute_result"
    }
   ],
   "source": [
    "train_batches.class_indices"
   ]
  },
  {
   "cell_type": "markdown",
   "metadata": {},
   "source": [
    "#### Data processing"
   ]
  },
  {
   "cell_type": "code",
   "execution_count": 70,
   "metadata": {},
   "outputs": [
    {
     "data": {
      "text/plain": [
       "numpy.float32"
      ]
     },
     "execution_count": 70,
     "metadata": {},
     "output_type": "execute_result"
    }
   ],
   "source": [
    "type(train_batches[0][1][0])"
   ]
  },
  {
   "cell_type": "code",
   "execution_count": 115,
   "metadata": {},
   "outputs": [
    {
     "data": {
      "text/plain": [
       "(128, 90, 90, 1)"
      ]
     },
     "execution_count": 115,
     "metadata": {},
     "output_type": "execute_result"
    }
   ],
   "source": [
    "train_batches[0][0].shape"
   ]
  },
  {
   "cell_type": "markdown",
   "metadata": {},
   "source": [
    ">imshow() ne prends que des array 2D ou 3D avec 3eme dimension =3-4"
   ]
  },
  {
   "cell_type": "code",
   "execution_count": 165,
   "metadata": {},
   "outputs": [
    {
     "data": {
      "text/plain": [
       "<matplotlib.image.AxesImage at 0x20064e99240>"
      ]
     },
     "execution_count": 165,
     "metadata": {},
     "output_type": "execute_result"
    },
    {
     "data": {
      "image/png": "[encoded data removed]",
      "text/plain": [
       "<Figure size 432x288 with 1 Axes>"
      ]
     },
     "metadata": {
      "needs_background": "light"
     },
     "output_type": "display_data"
    }
   ],
   "source": [
    "plt.imshow(train_batches[0][0][9].squeeze(),cmap=\"gray\")"
   ]
  },
  {
   "cell_type": "markdown",
   "metadata": {},
   "source": [
    "Taille de chaque image : (90,90,1) : img.squeeze() => (90,90)"
   ]
  },
  {
   "cell_type": "code",
   "execution_count": 216,
   "metadata": {},
   "outputs": [
    {
     "data": {
      "text/plain": [
       "array([[[0.],\n",
       "        [0.],\n",
       "        [0.],\n",
       "        ...,\n",
       "        [0.],\n",
       "        [0.],\n",
       "        [0.]],\n",
       "\n",
       "       [[2.],\n",
       "        [2.],\n",
       "        [2.],\n",
       "        ...,\n",
       "        [2.],\n",
       "        [2.],\n",
       "        [2.]],\n",
       "\n",
       "       [[6.],\n",
       "        [6.],\n",
       "        [6.],\n",
       "        ...,\n",
       "        [7.],\n",
       "        [7.],\n",
       "        [7.]],\n",
       "\n",
       "       ...,\n",
       "\n",
       "       [[3.],\n",
       "        [3.],\n",
       "        [3.],\n",
       "        ...,\n",
       "        [3.],\n",
       "        [3.],\n",
       "        [3.]],\n",
       "\n",
       "       [[1.],\n",
       "        [1.],\n",
       "        [1.],\n",
       "        ...,\n",
       "        [1.],\n",
       "        [1.],\n",
       "        [1.]],\n",
       "\n",
       "       [[0.],\n",
       "        [0.],\n",
       "        [0.],\n",
       "        ...,\n",
       "        [0.],\n",
       "        [0.],\n",
       "        [0.]]], dtype=float32)"
      ]
     },
     "execution_count": 216,
     "metadata": {},
     "output_type": "execute_result"
    }
   ],
   "source": [
    "train_batches[0][0][9]"
   ]
  },
  {
   "cell_type": "code",
   "execution_count": 167,
   "metadata": {},
   "outputs": [
    {
     "data": {
      "text/plain": [
       "numpy.ndarray"
      ]
     },
     "execution_count": 167,
     "metadata": {},
     "output_type": "execute_result"
    }
   ],
   "source": [
    "type(train_batches[0][0][9])"
   ]
  },
  {
   "cell_type": "code",
   "execution_count": 168,
   "metadata": {},
   "outputs": [
    {
     "data": {
      "text/plain": [
       "(128, 90, 90, 1)"
      ]
     },
     "execution_count": 168,
     "metadata": {},
     "output_type": "execute_result"
    }
   ],
   "source": [
    "train_batches[0][0].shape"
   ]
  },
  {
   "cell_type": "markdown",
   "metadata": {},
   "source": [
    "#### Implémentation du Modèle"
   ]
  },
  {
   "cell_type": "code",
   "execution_count": 6,
   "metadata": {},
   "outputs": [
    {
     "name": "stdout",
     "output_type": "stream",
     "text": [
      "WARNING:tensorflow:From C:\\Users\\Martin\\Anaconda3\\envs\\deepl\\lib\\site-packages\\tensorflow\\python\\framework\\op_def_library.py:263: colocate_with (from tensorflow.python.framework.ops) is deprecated and will be removed in a future version.\n",
      "Instructions for updating:\n",
      "Colocations handled automatically by placer.\n"
     ]
    }
   ],
   "source": [
    "# Number of classes\n",
    "num_classes = 3\n",
    "## Model \n",
    "## 3 couches de convolutions\n",
    "cnn_model = Sequential()\n",
    "\n",
    "cnn_model.add(Conv2D(25, kernel_size=(21, 21),activation=None,input_shape=(90,90,1)))\n",
    "cnn_model.add(BatchNormalization(epsilon=1e-5))\n",
    "cnn_model.add(Activation('relu'))\n",
    "cnn_model.add(MaxPooling2D((2, 2),strides=2))\n",
    "\n",
    "cnn_model.add(Conv2D(32, (11, 11), activation=None))\n",
    "cnn_model.add(BatchNormalization(epsilon=1e-5))\n",
    "cnn_model.add(Activation('relu'))\n",
    "cnn_model.add(MaxPooling2D(pool_size=(2, 2), strides=2))\n",
    "\n",
    "cnn_model.add(Conv2D(64, (3, 3), activation=None))\n",
    "cnn_model.add(BatchNormalization(epsilon=1e-5))\n",
    "cnn_model.add(Activation('relu'))\n",
    "cnn_model.add(MaxPooling2D(pool_size=(2, 2),strides=2))\n",
    "\n",
    "## On écrase les matrices en vecteurs\n",
    "cnn_model.add(Flatten())\n",
    "## Couche fully-connected                  \n",
    "## Couche de regression (à check pour la fonction d'activation linéaire)\n",
    "cnn_model.add(Dense(1, activation='linear'))"
   ]
  },
  {
   "cell_type": "markdown",
   "metadata": {},
   "source": [
    ">Couche Relu après le layer 3 de convolution non  présent dans le code mais précisé dans l'article (tableau d'overview du modèle)"
   ]
  },
  {
   "cell_type": "code",
   "execution_count": 7,
   "metadata": {},
   "outputs": [],
   "source": [
    "from keras import optimizers\n",
    "sgdm = optimizers.SGD(lr=0.001, momentum=0.9,nesterov=False)"
   ]
  },
  {
   "cell_type": "code",
   "execution_count": 8,
   "metadata": {},
   "outputs": [],
   "source": [
    "### Compile model\n",
    "cnn_model.compile(\n",
    "    loss='mean_squared_error', \n",
    "    optimizer=sgdm,\n",
    "    metrics=['mse', 'mae']\n",
    ")"
   ]
  },
  {
   "cell_type": "code",
   "execution_count": 9,
   "metadata": {},
   "outputs": [
    {
     "name": "stdout",
     "output_type": "stream",
     "text": [
      "_________________________________________________________________\n",
      "Layer (type)                 Output Shape              Param #   \n",
      "=================================================================\n",
      "conv2d_1 (Conv2D)            (None, 70, 70, 25)        11050     \n",
      "_________________________________________________________________\n",
      "batch_normalization_1 (Batch (None, 70, 70, 25)        100       \n",
      "_________________________________________________________________\n",
      "activation_1 (Activation)    (None, 70, 70, 25)        0         \n",
      "_________________________________________________________________\n",
      "max_pooling2d_1 (MaxPooling2 (None, 35, 35, 25)        0         \n",
      "_________________________________________________________________\n",
      "conv2d_2 (Conv2D)            (None, 25, 25, 32)        96832     \n",
      "_________________________________________________________________\n",
      "batch_normalization_2 (Batch (None, 25, 25, 32)        128       \n",
      "_________________________________________________________________\n",
      "activation_2 (Activation)    (None, 25, 25, 32)        0         \n",
      "_________________________________________________________________\n",
      "max_pooling2d_2 (MaxPooling2 (None, 12, 12, 32)        0         \n",
      "_________________________________________________________________\n",
      "conv2d_3 (Conv2D)            (None, 10, 10, 64)        18496     \n",
      "_________________________________________________________________\n",
      "batch_normalization_3 (Batch (None, 10, 10, 64)        256       \n",
      "_________________________________________________________________\n",
      "activation_3 (Activation)    (None, 10, 10, 64)        0         \n",
      "_________________________________________________________________\n",
      "max_pooling2d_3 (MaxPooling2 (None, 5, 5, 64)          0         \n",
      "_________________________________________________________________\n",
      "flatten_1 (Flatten)          (None, 1600)              0         \n",
      "_________________________________________________________________\n",
      "dense_1 (Dense)              (None, 1)                 1601      \n",
      "=================================================================\n",
      "Total params: 128,463\n",
      "Trainable params: 128,221\n",
      "Non-trainable params: 242\n",
      "_________________________________________________________________\n"
     ]
    }
   ],
   "source": [
    "cnn_model.summary()"
   ]
  },
  {
   "cell_type": "code",
   "execution_count": 10,
   "metadata": {},
   "outputs": [
    {
     "name": "stdout",
     "output_type": "stream",
     "text": [
      "60\n",
      "4\n"
     ]
    }
   ],
   "source": [
    "batch_size=128\n",
    "step_train = math.ceil(len(train_batches.filenames) / batch_size)\n",
    "step_valid = math.ceil(len(valid_batches.filenames)/batch_size)\n",
    "print(step_train)\n",
    "print(step_valid)"
   ]
  },
  {
   "cell_type": "markdown",
   "metadata": {},
   "source": [
    "*Paramètres à initialiser pour fit_generator*\n",
    "https://keras.io/models/sequential/\n",
    "\n",
    "steps_per epoch = ceil(num_samples / batch_size)"
   ]
  },
  {
   "cell_type": "code",
   "execution_count": 11,
   "metadata": {
    "scrolled": true
   },
   "outputs": [
    {
     "name": "stdout",
     "output_type": "stream",
     "text": [
      "WARNING:tensorflow:From C:\\Users\\Martin\\Anaconda3\\envs\\deepl\\lib\\site-packages\\tensorflow\\python\\ops\\math_ops.py:3066: to_int32 (from tensorflow.python.ops.math_ops) is deprecated and will be removed in a future version.\n",
      "Instructions for updating:\n",
      "Use tf.cast instead.\n",
      "Epoch 1/15\n",
      "60/60 [==============================] - 725s 12s/step - loss: 1.3636 - mean_squared_error: 1.3636 - mean_absolute_error: 0.7048 - val_loss: 0.4195 - val_mean_squared_error: 0.4195 - val_mean_absolute_error: 0.5771\n",
      "Epoch 2/15\n",
      "60/60 [==============================] - 677s 11s/step - loss: 0.0623 - mean_squared_error: 0.0623 - mean_absolute_error: 0.1938 - val_loss: 0.0445 - val_mean_squared_error: 0.0445 - val_mean_absolute_error: 0.1690\n",
      "Epoch 3/15\n",
      "60/60 [==============================] - 697s 12s/step - loss: 0.0436 - mean_squared_error: 0.0436 - mean_absolute_error: 0.1589 - val_loss: 0.0257 - val_mean_squared_error: 0.0257 - val_mean_absolute_error: 0.1155\n",
      "Epoch 4/15\n",
      "60/60 [==============================] - 694s 12s/step - loss: 0.0286 - mean_squared_error: 0.0286 - mean_absolute_error: 0.1247 - val_loss: 0.0441 - val_mean_squared_error: 0.0441 - val_mean_absolute_error: 0.1734\n",
      "Epoch 5/15\n",
      "60/60 [==============================] - 970s 16s/step - loss: 0.0356 - mean_squared_error: 0.0356 - mean_absolute_error: 0.1433 - val_loss: 0.0461 - val_mean_squared_error: 0.0461 - val_mean_absolute_error: 0.1757\n",
      "Epoch 6/15\n",
      "60/60 [==============================] - 40268s 671s/step - loss: 0.0354 - mean_squared_error: 0.0354 - mean_absolute_error: 0.1437 - val_loss: 0.0227 - val_mean_squared_error: 0.0227 - val_mean_absolute_error: 0.1095\n",
      "Epoch 7/15\n",
      "60/60 [==============================] - 29872s 498s/step - loss: 0.0299 - mean_squared_error: 0.0299 - mean_absolute_error: 0.1320 - val_loss: 0.0199 - val_mean_squared_error: 0.0199 - val_mean_absolute_error: 0.1030\n",
      "Epoch 8/15\n",
      "60/60 [==============================] - 767s 13s/step - loss: 0.0208 - mean_squared_error: 0.0208 - mean_absolute_error: 0.1064 - val_loss: 0.0185 - val_mean_squared_error: 0.0185 - val_mean_absolute_error: 0.1022\n",
      "Epoch 9/15\n",
      "60/60 [==============================] - 737s 12s/step - loss: 0.0204 - mean_squared_error: 0.0204 - mean_absolute_error: 0.1067 - val_loss: 0.0199 - val_mean_squared_error: 0.0199 - val_mean_absolute_error: 0.1036\n",
      "Epoch 10/15\n",
      "60/60 [==============================] - 735s 12s/step - loss: 0.0202 - mean_squared_error: 0.0202 - mean_absolute_error: 0.1060 - val_loss: 0.0193 - val_mean_squared_error: 0.0193 - val_mean_absolute_error: 0.1010\n",
      "Epoch 11/15\n",
      "60/60 [==============================] - 568s 9s/step - loss: 0.0211 - mean_squared_error: 0.0211 - mean_absolute_error: 0.1099 - val_loss: 0.0528 - val_mean_squared_error: 0.0528 - val_mean_absolute_error: 0.1957\n",
      "Epoch 12/15\n",
      "60/60 [==============================] - 527s 9s/step - loss: 0.0178 - mean_squared_error: 0.0178 - mean_absolute_error: 0.0991 - val_loss: 0.0170 - val_mean_squared_error: 0.0170 - val_mean_absolute_error: 0.0966\n",
      "Epoch 13/15\n",
      "60/60 [==============================] - 563s 9s/step - loss: 0.0172 - mean_squared_error: 0.0172 - mean_absolute_error: 0.0987 - val_loss: 0.0142 - val_mean_squared_error: 0.0142 - val_mean_absolute_error: 0.0873\n",
      "Epoch 14/15\n",
      "60/60 [==============================] - 490s 8s/step - loss: 0.0167 - mean_squared_error: 0.0167 - mean_absolute_error: 0.0969 - val_loss: 0.0377 - val_mean_squared_error: 0.0377 - val_mean_absolute_error: 0.1606\n",
      "Epoch 15/15\n",
      "60/60 [==============================] - 489s 8s/step - loss: 0.0183 - mean_squared_error: 0.0183 - mean_absolute_error: 0.1025 - val_loss: 0.0159 - val_mean_squared_error: 0.0159 - val_mean_absolute_error: 0.0928\n"
     ]
    }
   ],
   "source": [
    "class LossHistory(keras.callbacks.Callback):\n",
    "    def on_train_begin(self, logs={}):\n",
    "        self.losses = []\n",
    "\n",
    "    def on_batch_end(self, batch, logs={}):\n",
    "        self.losses.append(logs.get('loss'))\n",
    "\n",
    "\n",
    "historyPerBatch = LossHistory()\n",
    "\n",
    "cnn_train = cnn_model.fit_generator(train_batches, \n",
    "    steps_per_epoch=step_train, \n",
    "    epochs=12,\n",
    "    verbose=1,\n",
    "    validation_data=valid_batches,\n",
    "    validation_steps=step_valid,\n",
    "    callbacks = [historyPerBatch]\n",
    ")"
   ]
  },
  {
   "cell_type": "code",
   "execution_count": 7,
   "metadata": {},
   "outputs": [
    {
     "ename": "NameError",
     "evalue": "name 'cnn_train' is not defined",
     "output_type": "error",
     "traceback": [
      "\u001b[0;31m---------------------------------------------------------------------------\u001b[0m",
      "\u001b[0;31mNameError\u001b[0m                                 Traceback (most recent call last)",
      "\u001b[0;32m<ipython-input-7-e803722e995d>\u001b[0m in \u001b[0;36m<module>\u001b[0;34m\u001b[0m\n\u001b[1;32m      1\u001b[0m \u001b[0;32mfrom\u001b[0m \u001b[0mkeras\u001b[0m\u001b[0;34m.\u001b[0m\u001b[0mmodels\u001b[0m \u001b[0;32mimport\u001b[0m \u001b[0mmodel_from_json\u001b[0m\u001b[0;34m\u001b[0m\u001b[0;34m\u001b[0m\u001b[0m\n\u001b[1;32m      2\u001b[0m \u001b[0;34m\u001b[0m\u001b[0m\n\u001b[0;32m----> 3\u001b[0;31m \u001b[0mmodel_json\u001b[0m \u001b[0;34m=\u001b[0m \u001b[0mcnn_train\u001b[0m\u001b[0;34m.\u001b[0m\u001b[0mto_json\u001b[0m\u001b[0;34m(\u001b[0m\u001b[0;34m)\u001b[0m\u001b[0;34m\u001b[0m\u001b[0;34m\u001b[0m\u001b[0m\n\u001b[0m\u001b[1;32m      4\u001b[0m \u001b[0;32mwith\u001b[0m \u001b[0mopen\u001b[0m\u001b[0;34m(\u001b[0m\u001b[0;34m\"model.json\"\u001b[0m\u001b[0;34m,\u001b[0m \u001b[0;34m\"w\"\u001b[0m\u001b[0;34m)\u001b[0m \u001b[0;32mas\u001b[0m \u001b[0mjson_file\u001b[0m\u001b[0;34m:\u001b[0m\u001b[0;34m\u001b[0m\u001b[0;34m\u001b[0m\u001b[0m\n\u001b[1;32m      5\u001b[0m     \u001b[0mjson_file\u001b[0m\u001b[0;34m.\u001b[0m\u001b[0mwrite\u001b[0m\u001b[0;34m(\u001b[0m\u001b[0mmodel_json\u001b[0m\u001b[0;34m)\u001b[0m\u001b[0;34m\u001b[0m\u001b[0;34m\u001b[0m\u001b[0m\n",
      "\u001b[0;31mNameError\u001b[0m: name 'cnn_train' is not defined"
     ]
    }
   ],
   "source": [
    "from keras.models import model_from_json\n",
    "\n",
    "model_json = cnn_model.to_json()\n",
    "with open(\"model.json\", \"w\") as json_file:\n",
    "    json_file.write(model_json)\n",
    "# serialize weights to HDF5\n",
    "cnn_model.save_weights(\"model.h5\")"
   ]
  },
  {
   "cell_type": "code",
   "execution_count": 180,
   "metadata": {},
   "outputs": [],
   "source": [
    "cnn_model.save(\"cnn_model_v1.h5\")"
   ]
  },
  {
   "cell_type": "markdown",
   "metadata": {},
   "source": [
    "https://machinelearningmastery.com/save-load-keras-deep-learning-models/"
   ]
  },
  {
   "cell_type": "code",
   "execution_count": 25,
   "metadata": {},
   "outputs": [
    {
     "name": "stdout",
     "output_type": "stream",
     "text": [
      "Epoch 1/12\n",
      "60/60 [==============================] - 668s 11s/step - loss: 0.0137 - mean_squared_error: 0.0137 - mean_absolute_error: 0.0878 - val_loss: 0.0139 - val_mean_squared_error: 0.0139 - val_mean_absolute_error: 0.0830\n",
      "Epoch 2/12\n",
      "60/60 [==============================] - 560s 9s/step - loss: 0.0135 - mean_squared_error: 0.0135 - mean_absolute_error: 0.0871 - val_loss: 0.0223 - val_mean_squared_error: 0.0223 - val_mean_absolute_error: 0.1192\n",
      "Epoch 3/12\n",
      "60/60 [==============================] - 536s 9s/step - loss: 0.0181 - mean_squared_error: 0.0181 - mean_absolute_error: 0.1026 - val_loss: 0.0118 - val_mean_squared_error: 0.0118 - val_mean_absolute_error: 0.0787\n",
      "Epoch 4/12\n",
      "60/60 [==============================] - 665s 11s/step - loss: 0.0143 - mean_squared_error: 0.0143 - mean_absolute_error: 0.0890 - val_loss: 0.0162 - val_mean_squared_error: 0.0162 - val_mean_absolute_error: 0.0962\n",
      "Epoch 5/12\n",
      "60/60 [==============================] - 673s 11s/step - loss: 0.0129 - mean_squared_error: 0.0129 - mean_absolute_error: 0.0856 - val_loss: 0.0136 - val_mean_squared_error: 0.0136 - val_mean_absolute_error: 0.0823\n",
      "Epoch 6/12\n",
      "60/60 [==============================] - 636s 11s/step - loss: 0.0106 - mean_squared_error: 0.0106 - mean_absolute_error: 0.0750 - val_loss: 0.0131 - val_mean_squared_error: 0.0131 - val_mean_absolute_error: 0.0796\n",
      "Epoch 7/12\n",
      "60/60 [==============================] - 447s 7s/step - loss: 0.0149 - mean_squared_error: 0.0149 - mean_absolute_error: 0.0936 - val_loss: 0.0150 - val_mean_squared_error: 0.0150 - val_mean_absolute_error: 0.0881\n",
      "Epoch 8/12\n",
      "60/60 [==============================] - 395s 7s/step - loss: 0.0118 - mean_squared_error: 0.0118 - mean_absolute_error: 0.0820 - val_loss: 0.0218 - val_mean_squared_error: 0.0218 - val_mean_absolute_error: 0.1211\n",
      "Epoch 9/12\n",
      "60/60 [==============================] - 384s 6s/step - loss: 0.0146 - mean_squared_error: 0.0146 - mean_absolute_error: 0.0927 - val_loss: 0.0158 - val_mean_squared_error: 0.0158 - val_mean_absolute_error: 0.0914\n",
      "Epoch 10/12\n",
      "60/60 [==============================] - 451s 8s/step - loss: 0.0115 - mean_squared_error: 0.0115 - mean_absolute_error: 0.0801 - val_loss: 0.0142 - val_mean_squared_error: 0.0142 - val_mean_absolute_error: 0.0934\n",
      "Epoch 11/12\n",
      "60/60 [==============================] - 469s 8s/step - loss: 0.0124 - mean_squared_error: 0.0124 - mean_absolute_error: 0.0839 - val_loss: 0.0131 - val_mean_squared_error: 0.0131 - val_mean_absolute_error: 0.0821\n",
      "Epoch 12/12\n",
      "60/60 [==============================] - 446s 7s/step - loss: 0.0140 - mean_squared_error: 0.0140 - mean_absolute_error: 0.0894 - val_loss: 0.0180 - val_mean_squared_error: 0.0180 - val_mean_absolute_error: 0.1029\n"
     ]
    }
   ],
   "source": []
  },
  {
   "cell_type": "code",
   "execution_count": 1,
   "metadata": {},
   "outputs": [
    {
     "ename": "NameError",
     "evalue": "name 'cnn_train' is not defined",
     "output_type": "error",
     "traceback": [
      "\u001b[1;31m---------------------------------------------------------------------------\u001b[0m",
      "\u001b[1;31mNameError\u001b[0m                                 Traceback (most recent call last)",
      "\u001b[1;32m<ipython-input-1-cac6776a41af>\u001b[0m in \u001b[0;36m<module>\u001b[1;34m\u001b[0m\n\u001b[0;32m      1\u001b[0m \u001b[1;31m#### Plot rmse = sqrt(mse)\u001b[0m\u001b[1;33m\u001b[0m\u001b[1;33m\u001b[0m\u001b[1;33m\u001b[0m\u001b[0m\n\u001b[1;32m----> 2\u001b[1;33m \u001b[0mmse\u001b[0m \u001b[1;33m=\u001b[0m \u001b[0mcnn_train\u001b[0m\u001b[1;33m.\u001b[0m\u001b[0mhistory\u001b[0m\u001b[1;33m[\u001b[0m\u001b[1;34m'mean_squared_error'\u001b[0m\u001b[1;33m]\u001b[0m\u001b[1;33m\u001b[0m\u001b[1;33m\u001b[0m\u001b[0m\n\u001b[0m\u001b[0;32m      3\u001b[0m \u001b[0mval_mse\u001b[0m \u001b[1;33m=\u001b[0m \u001b[0mcnn_train\u001b[0m\u001b[1;33m.\u001b[0m\u001b[0mhistory\u001b[0m\u001b[1;33m[\u001b[0m\u001b[1;34m'val_mean_squared_error'\u001b[0m\u001b[1;33m]\u001b[0m\u001b[1;33m\u001b[0m\u001b[1;33m\u001b[0m\u001b[0m\n\u001b[0;32m      4\u001b[0m \u001b[0mloss\u001b[0m \u001b[1;33m=\u001b[0m \u001b[0mcnn_train\u001b[0m\u001b[1;33m.\u001b[0m\u001b[0mhistory\u001b[0m\u001b[1;33m[\u001b[0m\u001b[1;34m'loss'\u001b[0m\u001b[1;33m]\u001b[0m\u001b[1;33m\u001b[0m\u001b[1;33m\u001b[0m\u001b[0m\n\u001b[0;32m      5\u001b[0m \u001b[0mval_loss\u001b[0m \u001b[1;33m=\u001b[0m \u001b[0mcnn_train\u001b[0m\u001b[1;33m.\u001b[0m\u001b[0mhistory\u001b[0m\u001b[1;33m[\u001b[0m\u001b[1;34m'val_loss'\u001b[0m\u001b[1;33m]\u001b[0m\u001b[1;33m\u001b[0m\u001b[1;33m\u001b[0m\u001b[0m\n",
      "\u001b[1;31mNameError\u001b[0m: name 'cnn_train' is not defined"
     ]
    }
   ],
   "source": [
    "#### Plot rmse = sqrt(mse)\n",
    "mse = cnn_train.history['mean_squared_error']\n",
    "val_mse = cnn_train.history['val_mean_squared_error']\n",
    "loss = cnn_train.history['loss']\n",
    "val_loss = cnn_train.history['val_loss']\n",
    "epochs = range(len(mse))\n",
    "plt.plot(np.linspace(0,12,len(historyPerBatch.losses)), np.sqrt(historyPerBatch.losses), 'r', label='Training rmse')\n",
    "plt.plot(epochs, np.sqrt(val_mse), 'o', label='Validation rmse')\n",
    "plt.title('Training and validation rmse')\n",
    "plt.legend()\n",
    "plt.yscale('log')\n",
    "\n",
    "plt.figure()\n",
    "plt.plot(np.linspace(0,12,len(historyPerBatch.losses)), historyPerBatch.losses, 'r', label='Training loss')\n",
    "plt.plot(epochs, val_loss, 'o', label='Validation loss')\n",
    "plt.title('Training and validation loss')\n",
    "plt.legend()\n",
    "plt.yscale('log')\n",
    "\n",
    "plt.show()"
   ]
  },
  {
   "cell_type": "markdown",
   "metadata": {},
   "source": [
    "#### Resultats d'entrainement"
   ]
  },
  {
   "cell_type": "code",
   "execution_count": 186,
   "metadata": {},
   "outputs": [
    {
     "name": "stdout",
     "output_type": "stream",
     "text": [
      "60.0\n"
     ]
    }
   ],
   "source": [
    "batch_size = 128\n",
    "len_sample = np.ceil(len(train_batches.filenames)/batch_size)\n",
    "print(len_sample)"
   ]
  },
  {
   "cell_type": "code",
   "execution_count": 187,
   "metadata": {},
   "outputs": [
    {
     "name": "stdout",
     "output_type": "stream",
     "text": [
      "60/60 [==============================] - 147s 2s/step\n"
     ]
    }
   ],
   "source": [
    "predicted_train = cnn_model.predict_generator(train_batches,steps=len_sample, verbose=1)"
   ]
  },
  {
   "cell_type": "markdown",
   "metadata": {},
   "source": [
    ">steps: Total number of steps (batches of samples) to yield from generator before stopping. \n",
    "\n",
    "Or dans le code MatLab, la prediction est faite sur chaque image."
   ]
  },
  {
   "cell_type": "code",
   "execution_count": 188,
   "metadata": {},
   "outputs": [
    {
     "data": {
      "text/plain": [
       "(7600, 1)"
      ]
     },
     "execution_count": 188,
     "metadata": {},
     "output_type": "execute_result"
    }
   ],
   "source": [
    "predicted_train.shape"
   ]
  },
  {
   "cell_type": "code",
   "execution_count": 189,
   "metadata": {},
   "outputs": [
    {
     "name": "stdout",
     "output_type": "stream",
     "text": [
      "len :  7600\n",
      "min :  -0.31468868\n",
      "max :  2.5997162\n"
     ]
    }
   ],
   "source": [
    "print(\"len : \", len(predicted_train))\n",
    "print(\"min : \",np.amin(predicted_train))\n",
    "print(\"max : \",np.amax(predicted_train))"
   ]
  },
  {
   "cell_type": "code",
   "execution_count": 190,
   "metadata": {},
   "outputs": [
    {
     "data": {
      "text/plain": [
       "(array([  8.,  53., 350., 960., 760., 455., 172.,  37.,   9.,   8.,   5.,\n",
       "          7.,   4.,   7.,  27.,  42., 147., 306., 429., 391., 309., 181.,\n",
       "         72.,  52.,  58.,  88., 151., 284., 521., 579., 487., 343., 177.,\n",
       "         94.,  21.,   6.]),\n",
       " array([-0.31468868, -0.233733  , -0.1527773 , -0.07182161,  0.00913408,\n",
       "         0.09008977,  0.17104547,  0.25200117,  0.33295685,  0.41391253,\n",
       "         0.49486822,  0.5758239 ,  0.6567796 ,  0.7377353 ,  0.818691  ,\n",
       "         0.8996467 ,  0.9806024 ,  1.061558  ,  1.1425138 ,  1.2234695 ,\n",
       "         1.3044251 ,  1.3853809 ,  1.4663365 ,  1.5472922 ,  1.6282479 ,\n",
       "         1.7092036 ,  1.7901592 ,  1.871115  ,  1.9520707 ,  2.0330265 ,\n",
       "         2.113982  ,  2.1949377 ,  2.2758934 ,  2.3568492 ,  2.4378047 ,\n",
       "         2.5187604 ,  2.5997162 ], dtype=float32),\n",
       " <a list of 36 Patch objects>)"
      ]
     },
     "execution_count": 190,
     "metadata": {},
     "output_type": "execute_result"
    },
    {
     "data": {
      "image/png": "[encoded data removed]",
      "text/plain": [
       "<Figure size 432x288 with 1 Axes>"
      ]
     },
     "metadata": {
      "needs_background": "light"
     },
     "output_type": "display_data"
    }
   ],
   "source": [
    "plt.hist(predicted_train, bins=int(180/5))  "
   ]
  },
  {
   "cell_type": "markdown",
   "metadata": {},
   "source": [
    "OldRange = (OldMax - OldMin)  \n",
    "NewRange = (NewMax - NewMin)  \n",
    "NewValue = (((OldValue - OldMin) * NewRange) / OldRange) + NewMin"
   ]
  },
  {
   "cell_type": "code",
   "execution_count": 191,
   "metadata": {},
   "outputs": [],
   "source": [
    "predicted_train = ((predicted_train - np.amin(predicted_train))*254)/(np.amax(predicted_train)-np.amin(predicted_train)) - 127"
   ]
  },
  {
   "cell_type": "code",
   "execution_count": 192,
   "metadata": {
    "scrolled": false
   },
   "outputs": [
    {
     "data": {
      "text/plain": [
       "(array([  3.,   2.,   8.,  11.,  37.,  79., 153., 248., 429., 401., 320.,\n",
       "        314., 249., 188., 144.,  95.,  57.,  31.,  16.,  10.,   5.,   3.,\n",
       "          3.,   4.,   2.,   2.,   2.,   6.,   0.,   2.,   1.,   2.,   3.,\n",
       "          0.,   5.,   3.,  10.,  20.,  18.,  18.,  50.,  55.,  77., 130.,\n",
       "        141., 190., 152., 180., 146., 152., 148., 121.,  84.,  71.,  66.,\n",
       "         28.,  25.,  35.,  21.,  15.,  16.,  28.,  28.,  40.,  34.,  53.,\n",
       "         56.,  89., 125., 112., 178., 210., 253., 235., 224., 213., 180.,\n",
       "        164., 152., 121.,  77.,  64.,  66.,  42.,  22.,  13.,   4.,   6.,\n",
       "          1.,   3.]),\n",
       " array([-1.27000000e+02, -1.24177780e+02, -1.21355553e+02, -1.18533333e+02,\n",
       "        -1.15711113e+02, -1.12888885e+02, -1.10066666e+02, -1.07244446e+02,\n",
       "        -1.04422226e+02, -1.01599998e+02, -9.87777786e+01, -9.59555588e+01,\n",
       "        -9.31333313e+01, -9.03111115e+01, -8.74888916e+01, -8.46666641e+01,\n",
       "        -8.18444443e+01, -7.90222244e+01, -7.61999969e+01, -7.33777771e+01,\n",
       "        -7.05555573e+01, -6.77333298e+01, -6.49111099e+01, -6.20888901e+01,\n",
       "        -5.92666664e+01, -5.64444427e+01, -5.36222229e+01, -5.07999992e+01,\n",
       "        -4.79777794e+01, -4.51555557e+01, -4.23333321e+01, -3.95111122e+01,\n",
       "        -3.66888885e+01, -3.38666649e+01, -3.10444450e+01, -2.82222214e+01,\n",
       "        -2.53999996e+01, -2.25777779e+01, -1.97555561e+01, -1.69333324e+01,\n",
       "        -1.41111107e+01, -1.12888889e+01, -8.46666622e+00, -5.64444447e+00,\n",
       "        -2.82222223e+00,  1.42108547e-14,  2.82222223e+00,  5.64444447e+00,\n",
       "         8.46666622e+00,  1.12888889e+01,  1.41111107e+01,  1.69333324e+01,\n",
       "         1.97555561e+01,  2.25777779e+01,  2.53999996e+01,  2.82222214e+01,\n",
       "         3.10444450e+01,  3.38666649e+01,  3.66888885e+01,  3.95111122e+01,\n",
       "         4.23333321e+01,  4.51555557e+01,  4.79777794e+01,  5.07999992e+01,\n",
       "         5.36222229e+01,  5.64444427e+01,  5.92666664e+01,  6.20888901e+01,\n",
       "         6.49111099e+01,  6.77333298e+01,  7.05555573e+01,  7.33777771e+01,\n",
       "         7.61999969e+01,  7.90222244e+01,  8.18444443e+01,  8.46666641e+01,\n",
       "         8.74888916e+01,  9.03111115e+01,  9.31333313e+01,  9.59555588e+01,\n",
       "         9.87777786e+01,  1.01599998e+02,  1.04422226e+02,  1.07244446e+02,\n",
       "         1.10066666e+02,  1.12888885e+02,  1.15711113e+02,  1.18533333e+02,\n",
       "         1.21355553e+02,  1.24177780e+02,  1.27000000e+02], dtype=float32),\n",
       " <a list of 90 Patch objects>)"
      ]
     },
     "execution_count": 192,
     "metadata": {},
     "output_type": "execute_result"
    },
    {
     "data": {
      "image/png": "[encoded data removed]",
      "text/plain": [
       "<Figure size 432x288 with 1 Axes>"
      ]
     },
     "metadata": {
      "needs_background": "light"
     },
     "output_type": "display_data"
    }
   ],
   "source": [
    "plt.hist(predicted_train, bins=int(180/2))\n",
    "#Pour avoir la jolie courbe de distribution de l'histogramme : voir modue seaborn (kde)"
   ]
  },
  {
   "cell_type": "markdown",
   "metadata": {},
   "source": [
    "#### Résultats sur le valid_test"
   ]
  },
  {
   "cell_type": "markdown",
   "metadata": {},
   "source": [
    "#### Fit gaussiennes (à faire)"
   ]
  },
  {
   "cell_type": "markdown",
   "metadata": {},
   "source": [
    "#### Evaluation du modèle (sur le test_batches) (remove)"
   ]
  },
  {
   "cell_type": "code",
   "execution_count": 51,
   "metadata": {},
   "outputs": [
    {
     "data": {
      "text/plain": [
       "10"
      ]
     },
     "execution_count": 51,
     "metadata": {},
     "output_type": "execute_result"
    }
   ],
   "source": [
    "len(test_batches[0][0])"
   ]
  },
  {
   "cell_type": "code",
   "execution_count": 52,
   "metadata": {},
   "outputs": [
    {
     "data": {
      "text/plain": [
       "(90, 90, 1)"
      ]
     },
     "execution_count": 52,
     "metadata": {},
     "output_type": "execute_result"
    }
   ],
   "source": [
    "test_batches[0][0][0].shape"
   ]
  },
  {
   "cell_type": "code",
   "execution_count": 457,
   "metadata": {},
   "outputs": [],
   "source": [
    "#boucles pour les imgs\n",
    "t_imgs = []\n",
    "for i in range(len(test_batches)):\n",
    "    for j in range(len(test_batches[0][0])):\n",
    "        label = test_batches[i][1][j]\n",
    "        t_imgs.append([test_batches[i][0][j],label])\n",
    "\n",
    "test_imgs = np.array([i[0] for i in t_imgs])"
   ]
  },
  {
   "cell_type": "code",
   "execution_count": 458,
   "metadata": {},
   "outputs": [],
   "source": [
    "#boucles pour les labels\n",
    "t_labels = []\n",
    "for i in range(len(test_batches)):\n",
    "    for j in range(len(test_batches[0][0])):\n",
    "        t_labels.append(np.array(test_batches[i][1][j]))\n",
    "\n",
    "test_labels = np.asarray(t_labels)"
   ]
  },
  {
   "cell_type": "code",
   "execution_count": 459,
   "metadata": {},
   "outputs": [
    {
     "name": "stdout",
     "output_type": "stream",
     "text": [
      "400/400 [==============================] - 18s 44ms/step\n"
     ]
    }
   ],
   "source": [
    "test_eval = cnn_model.evaluate(test_imgs, test_labels, batch_size = 10, verbose=1)"
   ]
  },
  {
   "cell_type": "code",
   "execution_count": 476,
   "metadata": {},
   "outputs": [
    {
     "name": "stdout",
     "output_type": "stream",
     "text": [
      "loss: 3.84%\n",
      "mean_squared_error: 0.038373\n",
      "mean_absolute_error: 0.137259\n"
     ]
    }
   ],
   "source": [
    "print(\"%s: %.2f%%\" % (cnn_model.metrics_names[0], test_eval[0]*100))\n",
    "print(\"%s: %f\" % (cnn_model.metrics_names[1], test_eval[1]))\n",
    "print(\"%s: %f\" % (cnn_model.metrics_names[2], test_eval[2]))"
   ]
  },
  {
   "cell_type": "code",
   "execution_count": null,
   "metadata": {},
   "outputs": [],
   "source": []
  },
  {
   "cell_type": "markdown",
   "metadata": {},
   "source": [
    "### Prédiction et  Evaluation du modèle (jeu de test : input_data)"
   ]
  },
  {
   "cell_type": "code",
   "execution_count": 3,
   "metadata": {},
   "outputs": [
    {
     "name": "stdout",
     "output_type": "stream",
     "text": [
      "WARNING:tensorflow:From C:\\Users\\Martin\\Anaconda3\\envs\\deepl\\lib\\site-packages\\tensorflow\\python\\framework\\op_def_library.py:263: colocate_with (from tensorflow.python.framework.ops) is deprecated and will be removed in a future version.\n",
      "Instructions for updating:\n",
      "Colocations handled automatically by placer.\n",
      "Loaded model from disk\n"
     ]
    }
   ],
   "source": [
    "# load json and create model\n",
    "json_file = open('model80.json', 'r')\n",
    "loaded_model_json = json_file.read()\n",
    "json_file.close()\n",
    "loaded_model = model_from_json(loaded_model_json)\n",
    "# load weights into new model\n",
    "loaded_model.load_weights(\"model80.h5\")\n",
    "print(\"Loaded model from disk\")"
   ]
  },
  {
   "cell_type": "code",
   "execution_count": 113,
   "metadata": {},
   "outputs": [],
   "source": [
    "pathdir = \"measurements/\"\n",
    "path = os.listdir(\"measurements\")"
   ]
  },
  {
   "cell_type": "code",
   "execution_count": 114,
   "metadata": {},
   "outputs": [
    {
     "data": {
      "text/plain": [
       "['001_Crop_Pics_w_parameters_20mbar',\n",
       " '002_Crop_Pics_w_parameters_50mbar',\n",
       " '003_Crop_Pics_w_parameters_100mbar',\n",
       " '004_Crop_Pics_w_parameters_200mbar',\n",
       " '005_Crop_Pics_w_parameters_300mbar',\n",
       " '006_Crop_Pics_w_parameters_400mbar',\n",
       " '007_Crop_Pics_w_parameters_500mbar',\n",
       " '008_Crop_Pics_w_parameters_600mbar',\n",
       " '009_Crop_Pics_w_parameters_700mbar',\n",
       " '010_Crop_Pics_w_parameters_800mbar',\n",
       " '011_Crop_Pics_w_parameters_900mbar',\n",
       " '012_Crop_Pics_w_parameters_1000mbar']"
      ]
     },
     "execution_count": 114,
     "metadata": {},
     "output_type": "execute_result"
    }
   ],
   "source": [
    "path"
   ]
  },
  {
   "cell_type": "code",
   "execution_count": 115,
   "metadata": {},
   "outputs": [
    {
     "name": "stdout",
     "output_type": "stream",
     "text": [
      "['Croissants', 'Others']\n",
      "['Croissants', 'Others']\n",
      "['Croissants', 'Others', 'Slippers']\n",
      "['Croissants', 'Others', 'Slippers']\n",
      "['Croissants', 'Others', 'Slippers']\n",
      "['Croissants', 'Others', 'Slippers']\n",
      "['Croissants', 'Others', 'Slippers']\n",
      "['Croissants', 'Others', 'Slippers']\n",
      "['Others', 'Slippers']\n",
      "['Others', 'Slippers']\n",
      "['Croissants', 'Others', 'Slippers']\n",
      "['Others', 'Slippers']\n"
     ]
    }
   ],
   "source": [
    "from os.path import isfile, join\n",
    "images_test = []\n",
    "images_labels = []\n",
    "for directory in path:\n",
    "    sub_directory = os.listdir(\"measurements/\"+directory)\n",
    "    print(sub_directory)"
   ]
  },
  {
   "cell_type": "code",
   "execution_count": 116,
   "metadata": {},
   "outputs": [
    {
     "name": "stdout",
     "output_type": "stream",
     "text": [
      "9\n",
      "98\n",
      "9\n",
      "43\n",
      "165\n",
      "38\n",
      "2\n",
      "252\n",
      "210\n",
      "22\n",
      "102\n",
      "253\n",
      "120\n",
      "80\n",
      "216\n",
      "167\n",
      "17\n",
      "81\n",
      "117\n",
      "8\n",
      "44\n",
      "124\n",
      "18\n",
      "105\n",
      "31\n",
      "169\n",
      "2\n",
      "39\n",
      "241\n",
      "39\n",
      "269\n"
     ]
    }
   ],
   "source": [
    "from PIL import Image\n",
    "import cv2\n",
    "\n",
    "images_test = []\n",
    "labels_test = []\n",
    "for subdir, dirs, files in os.walk(pathdir):\n",
    "        category_name = os.path.basename(subdir)\n",
    "        #print(category_name)\n",
    "        #print(files)\n",
    "        if files == []:\n",
    "            root_dir = category_name\n",
    "        else :\n",
    "            print(len(files))\n",
    "            for img in files:\n",
    "                new_path =os.path.join(pathdir,root_dir,category_name,img)\n",
    "                im=Image.open(new_path)\n",
    "                img_array = np.reshape(np.array(im),(-1,90,90))\n",
    "                images_test.append(img_array)\n",
    "                labels_test.append(np.array(category_name))\n"
   ]
  },
  {
   "cell_type": "markdown",
   "metadata": {},
   "source": [
    "#### R=Verif shape - scale"
   ]
  },
  {
   "cell_type": "code",
   "execution_count": 13,
   "metadata": {},
   "outputs": [
    {
     "data": {
      "text/plain": [
       "array([[ 55,  55,  53, ...,  48,  48,  48],\n",
       "       [ 67,  67,  65, ...,  61,  62,  62],\n",
       "       [ 79,  79,  77, ...,  73,  76,  77],\n",
       "       ...,\n",
       "       [ 96,  96,  96, ...,  61,  61,  61],\n",
       "       [138, 138, 138, ...,  94,  95,  96],\n",
       "       [179, 179, 178, ..., 133, 135, 136]], dtype=uint8)"
      ]
     },
     "execution_count": 13,
     "metadata": {},
     "output_type": "execute_result"
    }
   ],
   "source": [
    "images_test[0].squeeze()"
   ]
  },
  {
   "cell_type": "code",
   "execution_count": 183,
   "metadata": {},
   "outputs": [
    {
     "name": "stdout",
     "output_type": "stream",
     "text": [
      "255\n",
      "24\n"
     ]
    }
   ],
   "source": [
    "print(np.amax(images_test))\n",
    "print(np.amin(images_test))"
   ]
  },
  {
   "cell_type": "code",
   "execution_count": 41,
   "metadata": {},
   "outputs": [
    {
     "data": {
      "text/plain": [
       "(1, 90, 90)"
      ]
     },
     "execution_count": 41,
     "metadata": {},
     "output_type": "execute_result"
    }
   ],
   "source": [
    "images_test[0].shape"
   ]
  },
  {
   "cell_type": "code",
   "execution_count": 117,
   "metadata": {},
   "outputs": [
    {
     "data": {
      "text/plain": [
       "<matplotlib.image.AxesImage at 0x1fad11a8160>"
      ]
     },
     "execution_count": 117,
     "metadata": {},
     "output_type": "execute_result"
    },
    {
     "data": {
      "image/png": "[encoded data removed]",
      "text/plain": [
       "<Figure size 432x288 with 1 Axes>"
      ]
     },
     "metadata": {
      "needs_background": "light"
     },
     "output_type": "display_data"
    }
   ],
   "source": [
    "plt.imshow(images_test[0].squeeze(), cmap=\"gray\")"
   ]
  },
  {
   "cell_type": "markdown",
   "metadata": {},
   "source": [
    "### Image pre-processing"
   ]
  },
  {
   "cell_type": "code",
   "execution_count": 184,
   "metadata": {},
   "outputs": [],
   "source": [
    "images_copy = images_test "
   ]
  },
  {
   "cell_type": "code",
   "execution_count": 203,
   "metadata": {},
   "outputs": [],
   "source": [
    "from scipy import signal\n",
    "window= signal.tukey(90,0.25)\n",
    "window = np.tile(win,(1,90))\n",
    "window = np.reshape(window,(90,90,-1))\n",
    "window = window.T"
   ]
  },
  {
   "cell_type": "code",
   "execution_count": 209,
   "metadata": {},
   "outputs": [],
   "source": [
    "out_tuckey = window.squeeze()*images_copy[0].squeeze()"
   ]
  },
  {
   "cell_type": "code",
   "execution_count": 137,
   "metadata": {},
   "outputs": [],
   "source": [
    "out_tuckey = np.multiply(window.squeeze(),images_copy[0].squeeze())"
   ]
  },
  {
   "cell_type": "code",
   "execution_count": 195,
   "metadata": {},
   "outputs": [],
   "source": [
    "out_tuckey *= 255.0/out_tuckey.max() "
   ]
  },
  {
   "cell_type": "code",
   "execution_count": 200,
   "metadata": {},
   "outputs": [
    {
     "data": {
      "text/plain": [
       "(90, 90)"
      ]
     },
     "execution_count": 200,
     "metadata": {},
     "output_type": "execute_result"
    }
   ],
   "source": [
    "out_tuckey.shape"
   ]
  },
  {
   "cell_type": "code",
   "execution_count": 222,
   "metadata": {},
   "outputs": [],
   "source": [
    "### imdj2 ?\n",
    "out = (out_tuckey.squeeze() - 1) * (255 / (99 - 1))\n",
    "#out = np.clip(out, 0, 255, out)"
   ]
  },
  {
   "cell_type": "code",
   "execution_count": 213,
   "metadata": {},
   "outputs": [],
   "source": [
    "import bisect\n",
    "\n",
    "def imadjust(src, tol=1, vin=[0,255], vout=(0,255)):\n",
    "    # src : input one-layer image (numpy array)\n",
    "    # tol : tolerance, from 0 to 100.\n",
    "    # vin  : src image bounds\n",
    "    # vout : dst image bounds\n",
    "    # return : output img\n",
    "\n",
    "    dst = src.copy()\n",
    "    tol = max(0, min(100, tol))\n",
    "\n",
    "    if tol > 0:\n",
    "        # Compute in and out limits\n",
    "        # Histogram\n",
    "        hist = np.zeros(256, dtype=np.int)\n",
    "        for r in range(src.shape[0]):\n",
    "            for c in range(src.shape[1]):\n",
    "                hist[src[r,c]] += 1\n",
    "        # Cumulative histogram\n",
    "        cum = hist.copy()\n",
    "        for i in range(1, len(hist)):\n",
    "            cum[i] = cum[i - 1] + hist[i]\n",
    "\n",
    "        # Compute bounds\n",
    "        total = src.shape[0] * src.shape[1]\n",
    "        low_bound = total * tol / 100\n",
    "        upp_bound = total * (100 - tol) / 100\n",
    "        vin[0] = bisect.bisect_left(cum, low_bound)\n",
    "        vin[1] = bisect.bisect_left(cum, upp_bound)\n",
    "\n",
    "    # Stretching\n",
    "    scale = (vout[1] - vout[0]) / (vin[1] - vin[0])\n",
    "    for r in range(dst.shape[0]):\n",
    "        for c in range(dst.shape[1]):\n",
    "            vs = max(src[r,c] - vin[0], 0)\n",
    "            vd = min(int(vs * scale + 0.5) + vout[0], vout[1])\n",
    "            dst[r,c] = vd\n",
    "    return dst    "
   ]
  },
  {
   "cell_type": "code",
   "execution_count": 214,
   "metadata": {},
   "outputs": [],
   "source": [
    "out3 = imadjust(img)"
   ]
  },
  {
   "cell_type": "code",
   "execution_count": 229,
   "metadata": {},
   "outputs": [
    {
     "data": {
      "text/plain": [
       "(Text(0.5, 1.0, ' After Imadj'),\n",
       " ([], <a list of 0 Text xticklabel objects>),\n",
       " ([], <a list of 0 Text yticklabel objects>))"
      ]
     },
     "execution_count": 229,
     "metadata": {},
     "output_type": "execute_result"
    },
    {
     "data": {
      "image/png": "[encoded data removed]",
      "text/plain": [
       "<Figure size 2880x2880 with 3 Axes>"
      ]
     },
     "metadata": {},
     "output_type": "display_data"
    }
   ],
   "source": [
    "fig = plt.figure(figsize=(40, 40))\n",
    "plt.subplot(131)\n",
    "plt.imshow(images_test[0].squeeze(), cmap=\"gray\")\n",
    "plt.title('Original Image')\n",
    "\n",
    "plt.subplot(132)\n",
    "plt.imshow(out_tuckey, cmap=\"gray\")\n",
    "plt.title(' After Tuckey'), plt.xticks([]), plt.yticks([],fontsize=24)\n",
    "\n",
    "plt.subplot(133)\n",
    "plt.imshow(out3, cmap=\"gray\")\n",
    "plt.title(' After Imadj'), plt.xticks([]), plt.yticks([])\n"
   ]
  },
  {
   "cell_type": "markdown",
   "metadata": {},
   "source": [
    "* train_batches.astype(int) ??"
   ]
  },
  {
   "cell_type": "code",
   "execution_count": 293,
   "metadata": {},
   "outputs": [],
   "source": [
    "from scipy import signal\n",
    "window= signal.tukey(90,0.25)\n",
    "window = np.tile(win,(1,90))\n",
    "window = np.reshape(window,(90,90,-1))\n",
    "window = window.T\n",
    "\n",
    "images_process = []\n",
    "\n",
    "for img in images_test:\n",
    "    out_tuckey = window.squeeze()*img.squeeze()\n",
    "    out_tuckey *= 255.0/out_tuckey.max() \n",
    "    out_tuckey = out_tuckey.astype(int)\n",
    "    out_adj = imadjust(out_tuckey)\n",
    "    out_adj = np.reshape(np.array(out_adj),(-1,90,90,1))\n",
    "    images_process.append(out_adj)\n"
   ]
  },
  {
   "cell_type": "markdown",
   "metadata": {},
   "source": [
    "#### Prediction"
   ]
  },
  {
   "cell_type": "code",
   "execution_count": 269,
   "metadata": {},
   "outputs": [],
   "source": [
    "images_pro = np.array(images_process)"
   ]
  },
  {
   "cell_type": "code",
   "execution_count": 288,
   "metadata": {},
   "outputs": [
    {
     "data": {
      "text/plain": [
       "(1, 90, 90)"
      ]
     },
     "execution_count": 288,
     "metadata": {},
     "output_type": "execute_result"
    }
   ],
   "source": [
    "images_test[0].shape"
   ]
  },
  {
   "cell_type": "code",
   "execution_count": 294,
   "metadata": {},
   "outputs": [],
   "source": [
    "from keras import optimizers\n",
    "sgdm = optimizers.SGD(lr=0.001, momentum=0.9,nesterov=False)\n",
    "loaded_model.compile(\n",
    "    loss='mean_squared_error', \n",
    "    optimizer=sgdm,\n",
    "    metrics=['mse', 'mae']\n",
    ")"
   ]
  },
  {
   "cell_type": "code",
   "execution_count": 296,
   "metadata": {},
   "outputs": [],
   "source": [
    "predicted_test = []\n",
    "for img in images_process:\n",
    "    predicted = loaded_model.predict(img,batch_size=1,verbose=0)\n",
    "    predicted_test.append(predicted)"
   ]
  },
  {
   "cell_type": "code",
   "execution_count": 297,
   "metadata": {},
   "outputs": [],
   "source": [
    "copy_predicted = predicted_test"
   ]
  },
  {
   "cell_type": "markdown",
   "metadata": {},
   "source": [
    "OldRange = (OldMax - OldMin)  \n",
    "NewRange = (NewMax - NewMin)  \n",
    "NewValue = (((OldValue - OldMin) * NewRange) / OldRange) + NewMin"
   ]
  },
  {
   "cell_type": "code",
   "execution_count": null,
   "metadata": {},
   "outputs": [],
   "source": []
  },
  {
   "cell_type": "code",
   "execution_count": 298,
   "metadata": {},
   "outputs": [
    {
     "data": {
      "image/png": "[encoded data removed]",
      "text/plain": [
       "<Figure size 432x288 with 1 Axes>"
      ]
     },
     "metadata": {
      "needs_background": "light"
     },
     "output_type": "display_data"
    }
   ],
   "source": [
    "predicted_test= np.reshape(np.array(predicted_test),(3090,1))\n",
    "predicted_test = ((predicted_test - np.amin(predicted_test))*254)/(np.amax(predicted_test)-np.amin(predicted_test)) - 127\n",
    "plt.hist(predicted_test, bins=100)\n",
    "plt.yscale('log')"
   ]
  },
  {
   "cell_type": "code",
   "execution_count": 299,
   "metadata": {},
   "outputs": [
    {
     "data": {
      "image/png": "[encoded data removed]",
      "text/plain": [
       "<Figure size 432x288 with 1 Axes>"
      ]
     },
     "metadata": {
      "needs_background": "light"
     },
     "output_type": "display_data"
    }
   ],
   "source": [
    "y,binEdges=np.histogram(predicted_test,bins=100, density=True)\n",
    "bincenters = 0.5*(binEdges[1:]+binEdges[:-1])\n",
    "plt.plot(bincenters,y,'-')\n",
    "plt.yscale('log')\n",
    "plt.show()"
   ]
  },
  {
   "cell_type": "markdown",
   "metadata": {},
   "source": [
    "#### Fit histogramme par Mixture Gaussienne"
   ]
  },
  {
   "cell_type": "code",
   "execution_count": 301,
   "metadata": {},
   "outputs": [],
   "source": [
    "def smooth(y, box_pts):\n",
    "    box = np.ones(box_pts)/box_pts\n",
    "    y_smooth = np.convolve(y, box, mode='same')\n",
    "    return y_smooth\n",
    "# plt.plot(bincenters,y)\n",
    "# y_smooth = smooth(y,3)\n",
    "# plt.plot(bincenters_train, smooth(y,3), 'r-', lw=1)\n",
    "# plt.yscale('log')"
   ]
  },
  {
   "cell_type": "code",
   "execution_count": 901,
   "metadata": {
    "scrolled": true
   },
   "outputs": [
    {
     "name": "stdout",
     "output_type": "stream",
     "text": [
      "[0.25078948 0.12642449 0.10112339 0.10777188 0.17455701 0.09510066\n",
      " 0.14423309]\n",
      "[[-73.99338075]\n",
      " [ 75.43012067]\n",
      " [  4.63296916]\n",
      " [ 44.95667585]\n",
      " [-66.78769429]\n",
      " [-38.59137872]\n",
      " [ 95.51232409]]\n",
      "[[[ 75.82226847]]\n",
      "\n",
      " [[117.66311674]]\n",
      "\n",
      " [[252.82721339]]\n",
      "\n",
      " [[169.52497722]]\n",
      "\n",
      " [[ 56.50731844]]\n",
      "\n",
      " [[176.19954043]]\n",
      "\n",
      " [[111.53558265]]]\n"
     ]
    },
    {
     "data": {
      "text/plain": [
       "[<matplotlib.lines.Line2D at 0x1fad54abc88>]"
      ]
     },
     "execution_count": 901,
     "metadata": {},
     "output_type": "execute_result"
    },
    {
     "data": {
      "image/png": "[encoded data removed]",
      "text/plain": [
       "<Figure size 576x360 with 1 Axes>"
      ]
     },
     "metadata": {
      "needs_background": "light"
     },
     "output_type": "display_data"
    }
   ],
   "source": [
    "from sklearn import mixture\n",
    "\n",
    "\n",
    "# gmm = mixture.GaussianMixture(n_components=3, covariance_type='spherical')\n",
    "gmm = mixture.GaussianMixture(n_components=7)\n",
    "g = gmm.fit(predicted_test)\n",
    "\n",
    "weights = g.weights_\n",
    "means = []\n",
    "means = g.means_\n",
    "covars = g.covariances_\n",
    "\n",
    "\n",
    "print(weights)\n",
    "print(means)\n",
    "print(covars)\n",
    "\n",
    "gmm_x = np.linspace(-150, 150, 100)\n",
    "#gmm_y = gauss_function(gmm_x,0.001,means[0],np.sqrt(covars[0]))\n",
    "gmm_y = np.exp(g.score_samples(gmm_x.reshape(-1,1)))\n",
    "gmm_y=np.reshape(gmm_y,(-1,1))\n",
    "\n",
    "fig, ax = plt.subplots(nrows=1, ncols=1, figsize=[8, 5])\n",
    "#y2=y/100\n",
    "ax.hist(predicted_test, bins=100,density=True)\n",
    "ax.plot(bincenters,smooth(y,3))\n",
    "#ax.plot(bincenters,y2,'-')\n",
    "#plt.yscale('log')\n",
    "ax.plot(gmm_x, gmm_y, color=\"red\", lw=2, label=\"GMM\")"
   ]
  },
  {
   "cell_type": "markdown",
   "metadata": {},
   "source": [
    "* Utiliser quatre gaussiennes est pertinent"
   ]
  },
  {
   "cell_type": "code",
   "execution_count": 902,
   "metadata": {},
   "outputs": [
    {
     "name": "stdout",
     "output_type": "stream",
     "text": [
      "-73.9933807539625\n",
      "95.51232408956093\n"
     ]
    }
   ],
   "source": [
    "meanSl = min(means)[0]\n",
    "meanCr = max(means)[0]\n",
    "\n",
    "varSli = covars[np.where(means == min(means))][0][0]\n",
    "varCr = covars[np.where(means == max(means))][0][0]\n",
    "print(meanSl)\n",
    "print(meanCr)"
   ]
  },
  {
   "cell_type": "code",
   "execution_count": null,
   "metadata": {},
   "outputs": [],
   "source": []
  },
  {
   "cell_type": "markdown",
   "metadata": {},
   "source": [
    "### Intervalle de confiance"
   ]
  },
  {
   "cell_type": "code",
   "execution_count": 903,
   "metadata": {},
   "outputs": [
    {
     "name": "stdout",
     "output_type": "stream",
     "text": [
      "[68.0536180252659, 122.97103015385596]\n",
      "[-101.85769537274048, -46.129066135184516]\n",
      "8.707598318368118\n"
     ]
    }
   ],
   "source": [
    "import math\n",
    "from scipy import stats\n",
    "\n",
    "paramSli = [(meanSl), (math.sqrt(varSli))]\n",
    "paramCr = [(meanCr), (math.sqrt(varCr))]\n",
    "\n",
    "#n = len(predicted_test)\n",
    "\n",
    "sl = math.sqrt(varSli)\n",
    "sC = math.sqrt(varCr)\n",
    "\n",
    "\n",
    "intervalSli = []\n",
    "intervalSli.append(meanSl-3.2*sl)\n",
    "intervalSli.append(meanSl+3.2*sl)\n",
    "intervalCr = []\n",
    "intervalCr.append(meanCr-2.6*sC)\n",
    "intervalCr.append(meanCr+2.6*sC)\n",
    "\n",
    "#intervalSli = stats.norm.interval(alpha = 0.95, loc=paramSli[0], scale=paramSli[1])\n",
    "#intervalCr = stats.norm.interval(alpha = 0.95, loc=paramCr[0], scale=paramCr[1])\n",
    "\n",
    "\n",
    "\n",
    "print(intervalCr)\n",
    "# print(intervalSh)\n",
    "print(intervalSli)\n",
    "print(sl)\n",
    "meanSl = min(means)[0]\n",
    "meanCr = max(means)[0]\n",
    "\n"
   ]
  },
  {
   "cell_type": "code",
   "execution_count": null,
   "metadata": {},
   "outputs": [],
   "source": []
  },
  {
   "cell_type": "code",
   "execution_count": 904,
   "metadata": {},
   "outputs": [],
   "source": [
    "true_labels = []\n",
    "for i in range(len(labels_test)):\n",
    "    if(labels_test[i] == 'Slippers'):\n",
    "        true_labels.append(0)\n",
    "    elif(labels_test[i] == 'Croissants'):\n",
    "        true_labels.append(2)\n",
    "    else : \n",
    "        true_labels.append(1)\n",
    "\n",
    "true_labels = np.asarray(true_labels)"
   ]
  },
  {
   "cell_type": "code",
   "execution_count": 905,
   "metadata": {},
   "outputs": [
    {
     "data": {
      "text/plain": [
       "array([2, 2, 2, ..., 0, 0, 0])"
      ]
     },
     "execution_count": 905,
     "metadata": {},
     "output_type": "execute_result"
    }
   ],
   "source": [
    "true_labels"
   ]
  },
  {
   "cell_type": "code",
   "execution_count": 906,
   "metadata": {},
   "outputs": [],
   "source": [
    "### Confusion matrix\n",
    "predicted_test\n",
    "### Confidence interval to put the results in their ranged classes\n",
    "\n",
    "## here the predicted numbers we modify to fit with the numeric labels (0,1,2)\n",
    "\n",
    "pred_labels = []\n",
    "\n",
    "for k in range(len(predicted_test)):\n",
    "    #if((predicted_test[k]>intervalCr[0])*(predicted_test[k]<intervalCr[1])): #Croissants\n",
    "    if((predicted_test[k]>intervalCr[0])): #Croissants\n",
    "\n",
    "        pred_labels.append(2)\n",
    "    #elif((predicted_test[k]>intervalSli[0])*(predicted_test[k]<intervalSli[1])): #Slippers\n",
    "    elif((predicted_test[k]<intervalSli[1])): #Slippers\n",
    "\n",
    "        pred_labels.append(0)\n",
    "    else: \n",
    "        pred_labels.append(1) #Other : if they fit in no confidence interval, we assume they are just \"others\"\n",
    "\n",
    "pred_labels = np.asarray(pred_labels)\n",
    "\n"
   ]
  },
  {
   "cell_type": "code",
   "execution_count": 899,
   "metadata": {},
   "outputs": [],
   "source": [
    "# Credit to github/hitvoice\n",
    "def cm_analysis(y_true, y_pred, labels, ymap=None, figsize=(10,10)):\n",
    "    if ymap is not None:\n",
    "        y_pred = [ymap[yi] for yi in y_pred]\n",
    "        y_true = [ymap[yi] for yi in y_true]\n",
    "        labels = [ymap[yi] for yi in labels]\n",
    "    cm = confusion_matrix(y_true, y_pred, labels=labels)\n",
    "    cm_sum = np.sum(cm, axis=1, keepdims=True)\n",
    "    cm_perc = cm / cm_sum.astype(float) * 100\n",
    "    annot = np.empty_like(cm).astype(str)\n",
    "    nrows, ncols = cm.shape\n",
    "    for i in range(nrows):\n",
    "        for j in range(ncols):\n",
    "            c = cm[i, j]\n",
    "            p = cm_perc[i, j]\n",
    "            if i == j:\n",
    "                s = cm_sum[i]\n",
    "                annot[i, j] = '%.1f%%\\n%d/%d' % (p, c, s)\n",
    "            elif c == 0:\n",
    "                annot[i, j] = ''\n",
    "            else:\n",
    "                annot[i, j] = '%.1f%%\\n%d' % (p, c)\n",
    "    cm = pd.DataFrame(cm, index=labels, columns=labels)\n",
    "    cm.index.name = 'Actual'\n",
    "    cm.columns.name = 'Predicted'\n",
    "    fig, ax = plt.subplots(figsize=figsize)\n",
    "    sns.heatmap(cm, annot=annot, fmt='', ax=ax)"
   ]
  },
  {
   "cell_type": "code",
   "execution_count": 907,
   "metadata": {},
   "outputs": [
    {
     "data": {
      "image/png": "[encoded data removed]",
      "text/plain": [
       "<Figure size 720x720 with 2 Axes>"
      ]
     },
     "metadata": {
      "needs_background": "light"
     },
     "output_type": "display_data"
    }
   ],
   "source": [
    "#g=7 best Accuracy\n",
    "cm_analysis(true_labels, pred_labels, labels = [2,0,1])"
   ]
  },
  {
   "cell_type": "markdown",
   "metadata": {},
   "source": [
    "cm_analysis(true_labels, pred_labels, labels = [2,0,1])"
   ]
  },
  {
   "cell_type": "code",
   "execution_count": 380,
   "metadata": {},
   "outputs": [
    {
     "data": {
      "image/png": "[encoded data removed]",
      "text/plain": [
       "<Figure size 720x720 with 2 Axes>"
      ]
     },
     "metadata": {
      "needs_background": "light"
     },
     "output_type": "display_data"
    }
   ],
   "source": [
    "#Ic article 2sig, g=6\n",
    "cm_analysis(true_labels, pred_labels, labels = [2,0,1])"
   ]
  },
  {
   "cell_type": "markdown",
   "metadata": {},
   "source": [
    "cm_analysis(true_labels, pred_labels, labels = [2,0,1])"
   ]
  },
  {
   "cell_type": "code",
   "execution_count": 631,
   "metadata": {},
   "outputs": [
    {
     "data": {
      "image/png": "[encoded data removed]",
      "text/plain": [
       "<Figure size 720x720 with 2 Axes>"
      ]
     },
     "metadata": {
      "needs_background": "light"
     },
     "output_type": "display_data"
    }
   ],
   "source": [
    "# Ic adapted 2sig / 3sig g = 5\n",
    "cm_analysis(true_labels, pred_labels, labels = [2,0,1])"
   ]
  },
  {
   "cell_type": "code",
   "execution_count": 652,
   "metadata": {},
   "outputs": [
    {
     "data": {
      "image/png": "[encoded data removed]",
      "text/plain": [
       "<Figure size 720x720 with 2 Axes>"
      ]
     },
     "metadata": {
      "needs_background": "light"
     },
     "output_type": "display_data"
    }
   ],
   "source": [
    "#Ic adapted g=7\n",
    "cm_analysis(true_labels, pred_labels, labels = [2,0,1])"
   ]
  },
  {
   "cell_type": "code",
   "execution_count": 438,
   "metadata": {},
   "outputs": [
    {
     "data": {
      "image/png": "[encoded data removed]",
      "text/plain": [
       "<Figure size 720x720 with 2 Axes>"
      ]
     },
     "metadata": {
      "needs_background": "light"
     },
     "output_type": "display_data"
    }
   ],
   "source": [
    "#Ic article 2sig g=5\n",
    "cm_analysis(true_labels, pred_labels, labels = [2,0,1])"
   ]
  },
  {
   "cell_type": "code",
   "execution_count": 366,
   "metadata": {},
   "outputs": [
    {
     "data": {
      "image/png": "[encoded data removed]",
      "text/plain": [
       "<Figure size 720x720 with 2 Axes>"
      ]
     },
     "metadata": {
      "needs_background": "light"
     },
     "output_type": "display_data"
    }
   ],
   "source": [
    "#0.95 g=6\n",
    "cm_analysis(true_labels, pred_labels, labels = [2,0,1])"
   ]
  },
  {
   "cell_type": "code",
   "execution_count": 456,
   "metadata": {},
   "outputs": [
    {
     "data": {
      "image/png": "[encoded data removed]",
      "text/plain": [
       "<Figure size 720x720 with 2 Axes>"
      ]
     },
     "metadata": {
      "needs_background": "light"
     },
     "output_type": "display_data"
    }
   ],
   "source": [
    "#ic 0.95 g=4\n",
    "cm_analysis(true_labels, pred_labels, labels = [2,0,1])"
   ]
  },
  {
   "cell_type": "code",
   "execution_count": 352,
   "metadata": {},
   "outputs": [
    {
     "data": {
      "image/png": "[encoded data removed]",
      "text/plain": [
       "<Figure size 720x720 with 2 Axes>"
      ]
     },
     "metadata": {
      "needs_background": "light"
     },
     "output_type": "display_data"
    }
   ],
   "source": [
    "#IC 0.95 with borne g=6\n",
    "cm_analysis(true_labels, pred_labels, labels = [2,0,1])"
   ]
  },
  {
   "cell_type": "code",
   "execution_count": 347,
   "metadata": {},
   "outputs": [
    {
     "data": {
      "image/png": "[encoded data removed]",
      "text/plain": [
       "<Figure size 720x720 with 2 Axes>"
      ]
     },
     "metadata": {
      "needs_background": "light"
     },
     "output_type": "display_data"
    }
   ],
   "source": [
    "cm_analysis(true_labels, pred_labels, labels = [2,0,1])"
   ]
  },
  {
   "cell_type": "markdown",
   "metadata": {},
   "source": []
  },
  {
   "cell_type": "code",
   "execution_count": 356,
   "metadata": {},
   "outputs": [],
   "source": [
    "from sklearn.metrics import f1_score\n",
    "from sklearn.metrics import precision_recall_fscore_support\n",
    "## F1 score\n",
    "f1 = f1_score(true_labels, pred_labels, \n",
    "                         labels=[0,1,2], \n",
    "                         pos_label=1, \n",
    "                         average=None, \n",
    "                         sample_weight=None)"
   ]
  },
  {
   "cell_type": "code",
   "execution_count": 357,
   "metadata": {},
   "outputs": [
    {
     "name": "stdout",
     "output_type": "stream",
     "text": [
      "[0.87553985 0.73543797 0.79046243] [0.92072667 0.7260755  0.73918919] [0.83458084 0.74504505 0.84937888]\n"
     ]
    }
   ],
   "source": [
    "## Precision and recall\n",
    "pres_recall = precision_recall_fscore_support(true_labels, pred_labels, \n",
    "                                beta=1.0, \n",
    "                                labels=[0,1,2], \n",
    "                                pos_label=1, \n",
    "                                average=None, \n",
    "                                warn_for=('precision', 'recall', 'f-score'), \n",
    "                                sample_weight=None)\n",
    "\n",
    "precision = pres_recall[0]\n",
    "recall = pres_recall[1]\n",
    "print(f1, precision, recall)"
   ]
  },
  {
   "cell_type": "code",
   "execution_count": null,
   "metadata": {},
   "outputs": [],
   "source": []
  },
  {
   "cell_type": "code",
   "execution_count": 278,
   "metadata": {},
   "outputs": [
    {
     "data": {
      "image/png": "[encoded data removed]",
      "text/plain": [
       "<Figure size 720x720 with 2 Axes>"
      ]
     },
     "metadata": {
      "needs_background": "light"
     },
     "output_type": "display_data"
    }
   ],
   "source": [
    "cm_analysis(true_labels, pred_labels, labels = [2,0,1])"
   ]
  },
  {
   "cell_type": "markdown",
   "metadata": {},
   "source": [
    "* Intervalle de confiance à 68% en supprimant les borne inf (slippears) et sup (croissants) "
   ]
  },
  {
   "cell_type": "code",
   "execution_count": null,
   "metadata": {},
   "outputs": [],
   "source": []
  },
  {
   "cell_type": "markdown",
   "metadata": {},
   "source": [
    "#### Analyse d'erreurs"
   ]
  },
  {
   "cell_type": "markdown",
   "metadata": {},
   "source": [
    ">And further, the weight initialization of layers might be different. For example, by default the glorot_uniform (i.e. uniform distribution) is used for kernel initialization of Dense layer in Keras, whereas in MATLAB Gaussian distribution with mean 0 and standard deviation 0.01 is used for initializing weights of fullyConnectedLayer"
   ]
  },
  {
   "cell_type": "markdown",
   "metadata": {},
   "source": [
    "* mettre l'erreur  par rapport à une erreur de référence\n",
    "* Variabilité la même de la même à la fin\n",
    "* études parallèles du % précision enfonction du nombre de gaussienne/choix de $\\sigma$\n",
    "    * trouver nombre de gaussiennes optimal\n",
    "    * -> 8\n",
    "    * graphes selon paramètres choisi / table"
   ]
  },
  {
   "cell_type": "markdown",
   "metadata": {},
   "source": [
    "### Recherche optimum"
   ]
  },
  {
   "cell_type": "code",
   "execution_count": 581,
   "metadata": {},
   "outputs": [],
   "source": [
    "def gmmAnalyisMisclass(predicted_test, labels_test,alphaSigma):\n",
    "    result = []\n",
    "    for k in range(3,13):        \n",
    "        ## GMM\n",
    "        gmm = mixture.GaussianMixture(n_components=k)\n",
    "        g = gmm.fit(predicted_test)\n",
    "        weights = g.weights_\n",
    "        means = []\n",
    "        means = g.means_\n",
    "        covars = g.covariances_\n",
    "        meanSl = min(means)[0]\n",
    "        meanCr = max(means)[0]\n",
    "        varSli = covars[np.where(means == min(means))][0][0]\n",
    "        varCr = covars[np.where(means == max(means))][0][0]\n",
    "        \n",
    "        ## We got then the confidence interval\n",
    "        paramSli = [(meanSl), (math.sqrt(varSli))]\n",
    "        paramCr = [(meanCr), (math.sqrt(varCr))]\n",
    "        sl = alphaSigma*math.sqrt(varSli)\n",
    "        sC = alphaSigma*math.sqrt(varCr)\n",
    "        intervalSli = []\n",
    "        intervalSli.append(meanSl-sl)\n",
    "        intervalSli.append(meanSl+sl)\n",
    "        intervalCr = []\n",
    "        intervalCr.append(meanCr-sC)\n",
    "        intervalCr.append(meanCr+sC)\n",
    "        ## predictions\n",
    "        pred_labels = []\n",
    "\n",
    "        for i in range(len(predicted_test)):\n",
    "            if((predicted_test[i]>intervalCr[0])): #Croissants\n",
    "                pred_labels.append(2)\n",
    "            elif((predicted_test[i]<intervalSli[1])): #Slippers\n",
    "                pred_labels.append(0)\n",
    "            else: \n",
    "                pred_labels.append(1) #Other : if they fit in no confidence interval, we assume they are just \"others\"\n",
    "\n",
    "        pred_labels = np.asarray(pred_labels)\n",
    "\n",
    "        \n",
    "        \n",
    "        ## true labels\n",
    "        true_labels = []\n",
    "        for i in range(len(labels_test)):\n",
    "            if(labels_test[i] == 'Slippers'):\n",
    "                true_labels.append(0)\n",
    "            elif(labels_test[i] == 'Croissants'):\n",
    "                true_labels.append(2)\n",
    "            else : \n",
    "                true_labels.append(1)\n",
    "\n",
    "        true_labels = np.asarray(true_labels)\n",
    "        \n",
    "        \n",
    "        \n",
    "        #cm = confusion_matrix(y_true, y_pred, labels=labels)\n",
    "\n",
    "        \n",
    "        cm = confusion_matrix(true_labels, pred_labels, labels=[2, 0, 1])\n",
    "                \n",
    "        \n",
    "        ## critères de perf\n",
    "        \n",
    "        tp = 0\n",
    "        err = 0\n",
    "        \n",
    "        for i in range(len(cm)):\n",
    "            for j in range(len(cm)):\n",
    "                if i==j:\n",
    "                    tp = cm[i][j] + tp\n",
    "                else:\n",
    "                    err = err + cm[i][j]\n",
    "            \n",
    "        \n",
    "        acc_rate = tp /np.sum(cm)\n",
    "        err_rate = err/np.sum(cm)\n",
    "        \n",
    "        \n",
    "        res_acc = precision_recall_fscore_support(true_labels, pred_labels, \n",
    "                                beta=1.0, \n",
    "                                labels=[2,0,1], \n",
    "                                pos_label=1, \n",
    "                                average=None, \n",
    "                                warn_for=('precision', 'recall', 'f-score'), \n",
    "                                sample_weight=None)\n",
    "\n",
    "        precision = res_acc[0]\n",
    "        recall = res_acc[1]\n",
    "        f1 = res_acc[2]\n",
    "        gmm_res = []\n",
    "        gmm_res.append([acc_rate,err_rate])\n",
    "        for i in range(3):\n",
    "                #gmm_res.append(recall[i])\n",
    "\n",
    "                gmm_res.append([precision[i],recall[i],f1[i]])\n",
    "        result.append(gmm_res)     \n",
    "        \n",
    "        \n",
    "    return result"
   ]
  },
  {
   "cell_type": "code",
   "execution_count": 419,
   "metadata": {},
   "outputs": [
    {
     "data": {
      "text/plain": [
       "[[0.8097087378640777, 0.19029126213592232],\n",
       " [0.8127272727272727, 0.6940993788819876, 0.7487437185929648],\n",
       " [0.9151467089611419, 0.8637724550898204, 0.8887177512514439],\n",
       " [0.7044566067240031, 0.8117117117117117, 0.7542904981163667]]"
      ]
     },
     "execution_count": 419,
     "metadata": {},
     "output_type": "execute_result"
    }
   ],
   "source": [
    "#result[k]\n",
    "#(g=4)[[acc,err] -->result[k][0]\n",
    "#(cr)[pres,recall,f1] -->result[k][1]\n",
    "#(sl)[pres,recall,f1] -->result[k][2]\n",
    "#(oth)[pres,recall,f1]] --> -->result[k][3]"
   ]
  },
  {
   "cell_type": "code",
   "execution_count": 583,
   "metadata": {},
   "outputs": [],
   "source": [
    "result = gmmAnalyisMisclass(predicted_test, labels_test,2)"
   ]
  },
  {
   "cell_type": "markdown",
   "metadata": {},
   "source": [
    "* courbe acc/err en fonction du nombre de gaussienne\n",
    "* show recall/precision pour les meilleurs\n",
    "\n",
    "* Selon stratégie :"
   ]
  },
  {
   "cell_type": "code",
   "execution_count": 632,
   "metadata": {},
   "outputs": [
    {
     "data": {
      "text/plain": [
       "[[[0.7880258899676376, 0.21197411003236247],\n",
       "  [0.6226226226226226, 0.9658385093167702, 0.757151552038953],\n",
       "  [0.9020346646571213, 0.8959580838323353, 0.8989861058956065],\n",
       "  [0.806282722513089, 0.554954954954955, 0.6574172892209178]],\n",
       " [[0.8106796116504854, 0.18932038834951456],\n",
       "  [0.6913294797687861, 0.9285714285714286, 0.7925778661365143],\n",
       "  [0.9067796610169492, 0.8809880239520959, 0.8936977980258162],\n",
       "  [0.7874865156418555, 0.6576576576576577, 0.7167403043691704]],\n",
       " [[0.8265372168284789, 0.17346278317152103],\n",
       "  [0.7302383939774153, 0.9037267080745341, 0.8077723802914643],\n",
       "  [0.9016516516516516, 0.8989520958083832, 0.9002998500749624],\n",
       "  [0.8022892819979188, 0.6945945945945946, 0.7445678416224046]],\n",
       " [[0.8210355987055016, 0.1789644012944984],\n",
       "  [0.7433155080213903, 0.8633540372670807, 0.7988505747126436],\n",
       "  [0.9074787972243639, 0.8809880239520959, 0.8940372199012533],\n",
       "  [0.769377990430622, 0.7243243243243244, 0.7461716937354989]],\n",
       " [[0.8181229773462784, 0.1818770226537217],\n",
       "  [0.754874651810585, 0.8416149068322981, 0.7958883994126286],\n",
       "  [0.9151467089611419, 0.8637724550898204, 0.8887177512514439],\n",
       "  [0.7488748874887489, 0.7495495495495496, 0.7492120666366501]],\n",
       " [[0.8171521035598706, 0.18284789644012944],\n",
       "  [0.792, 0.7686335403726708, 0.7801418439716313],\n",
       "  [0.9151467089611419, 0.8637724550898204, 0.8887177512514439],\n",
       "  [0.7275747508305648, 0.7891891891891892, 0.7571305099394986]],\n",
       " [[0.8029126213592233, 0.1970873786407767],\n",
       "  [0.8172888015717092, 0.6459627329192547, 0.7215958369470945],\n",
       "  [0.9151467089611419, 0.8637724550898204, 0.8887177512514439],\n",
       "  [0.6901515151515152, 0.8207207207207208, 0.7497942386831277]],\n",
       " [[0.7932038834951456, 0.20679611650485438],\n",
       "  [0.8371559633027523, 0.5667701863354038, 0.6759259259259259],\n",
       "  [0.9151467089611419, 0.8637724550898204, 0.8887177512514439],\n",
       "  [0.669059583632448, 0.8396396396396396, 0.7447063523771476]],\n",
       " [[0.7893203883495146, 0.21067961165048543],\n",
       "  [0.8379629629629629, 0.562111801242236, 0.6728624535315986],\n",
       "  [0.9178082191780822, 0.8525449101796407, 0.8839736127279784],\n",
       "  [0.6619618913196895, 0.8450450450450451, 0.7423822714681441]],\n",
       " [[0.7608414239482201, 0.23915857605177993],\n",
       "  [0.8445945945945946, 0.38819875776397517, 0.5319148936170213],\n",
       "  [0.9178082191780822, 0.8525449101796407, 0.8839736127279784],\n",
       "  [0.6194462330972311, 0.8666666666666667, 0.7224934284641381]]]"
      ]
     },
     "execution_count": 632,
     "metadata": {},
     "output_type": "execute_result"
    }
   ],
   "source": [
    "result"
   ]
  },
  {
   "cell_type": "markdown",
   "metadata": {},
   "source": [
    "### Analyse à Ic = 2 $\\sigma$"
   ]
  },
  {
   "cell_type": "code",
   "execution_count": 596,
   "metadata": {},
   "outputs": [
    {
     "data": {
      "text/plain": [
       "Text(0.5, 1.0, 'Justesse (accuracy) de la classification en fonction du nombre de gaussiennes')"
      ]
     },
     "execution_count": 596,
     "metadata": {},
     "output_type": "execute_result"
    },
    {
     "data": {
      "image/png": "[encoded data removed]",
      "text/plain": [
       "<Figure size 432x288 with 1 Axes>"
      ]
     },
     "metadata": {
      "needs_background": "light"
     },
     "output_type": "display_data"
    }
   ],
   "source": [
    "# accuracy vs nbr gaussiennes\n",
    "accuracies = []\n",
    "errors = []\n",
    "for gmm in result:\n",
    "    accuracies.append(gmm[0][0])\n",
    "    errors.append(gmm[0][1])\n",
    "plt.plot(nbr_gmm,accuracies,'o',marker='+')\n",
    "#plt.plot(nbr_gmm,errors, 'ro')\n",
    "\n",
    "plt.title('Justesse (accuracy) de la classification en fonction du nombre de gaussiennes')\n"
   ]
  },
  {
   "cell_type": "code",
   "execution_count": 588,
   "metadata": {},
   "outputs": [],
   "source": [
    "nbr_gmm = np.arange(3,len(result)+3,1).tolist()\n",
    "\n",
    "#critères pour croissants\n",
    "Crprecisions = []\n",
    "for gmm in result:\n",
    "    Crprecisions.append(gmm[1][0])\n",
    "Crrecalls = []\n",
    "for gmm in result:\n",
    "    Crrecalls.append(gmm[1][1])\n",
    "\n",
    "Crf1s = []\n",
    "for gmm in result:\n",
    "    Crf1s.append(gmm[1][2])\n",
    "    \n",
    "#critères pour slippers\n",
    "Slprecisions = []\n",
    "for gmm in result:\n",
    "    Slprecisions.append(gmm[2][0])\n",
    "Slrecalls = []\n",
    "for gmm in result:\n",
    "    Slrecalls.append(gmm[2][1])\n",
    "\n",
    "Slf1s = []\n",
    "for gmm in result:\n",
    "    Slf1s.append(gmm[2][2])\n",
    "\n",
    "\n",
    "#critères pour other\n",
    "Othprecisions = []\n",
    "for gmm in result:\n",
    "    Othprecisions.append(gmm[3][0])\n",
    "Othrecalls = []\n",
    "for gmm in result:\n",
    "    Othrecalls.append(gmm[3][1])\n",
    "\n",
    "Othf1s = []\n",
    "for gmm in result:\n",
    "    Othf1s.append(gmm[3][2])"
   ]
  },
  {
   "cell_type": "code",
   "execution_count": 594,
   "metadata": {},
   "outputs": [
    {
     "data": {
      "text/plain": [
       "Text(0.5, 1.0, 'Score F1 des others selon le nombre de gaussiennes')"
      ]
     },
     "execution_count": 594,
     "metadata": {},
     "output_type": "execute_result"
    },
    {
     "data": {
      "image/png": "[encoded data removed]",
      "text/plain": [
       "<Figure size 1440x720 with 9 Axes>"
      ]
     },
     "metadata": {
      "needs_background": "light"
     },
     "output_type": "display_data"
    }
   ],
   "source": [
    "plt.figure(figsize=(20, 10))\n",
    "\n",
    "plt.subplot(331)\n",
    "plt.plot(nbr_gmm, Crrecalls,'o',marker='+')\n",
    "plt.title('Recall des croissants selon le nombre de gaussiennes')\n",
    "#plt.axis('off')\n",
    "plt.subplot(332)\n",
    "plt.plot(nbr_gmm, Crprecisions,'o',marker='+')\n",
    "plt.title('Précision des croissants selon le nombre de gaussiennes')\n",
    "#plt.axis('off')\n",
    "plt.subplot(333)\n",
    "plt.plot(nbr_gmm,Crf1s,'o',marker='+')\n",
    "plt.title('Score F1 des croissants selon le nombre de gaussiennes')\n",
    "#plt.axis('off')\n",
    "\n",
    "#plt.figure(figsize=(20, 10))\n",
    "\n",
    "plt.subplot(334)\n",
    "plt.plot(nbr_gmm, Slrecalls,'o',marker='+')\n",
    "plt.title('Recall des slippers selon le nombre de gaussiennes')\n",
    "#plt.axis('off')\n",
    "plt.subplot(335)\n",
    "plt.plot(nbr_gmm, Slprecisions,'o',marker='+')\n",
    "plt.title('Précision des slippers selon le nombre de gaussiennes')\n",
    "#plt.axis('off')\n",
    "plt.subplot(336)\n",
    "plt.plot(nbr_gmm,Slf1s,'o',marker='+')\n",
    "plt.title('Score F1 des slippers selon le nombre de gaussiennes')\n",
    "#plt.axis('off')\n",
    "\n",
    "#plt.figure(figsize=(20, 10))\n",
    "\n",
    "plt.subplot(337)\n",
    "plt.plot(nbr_gmm, Othrecalls,'o',marker='+')\n",
    "plt.title('Recall des others selon le nombre de gaussiennes')\n",
    "#plt.axis('off')\n",
    "plt.subplot(338)\n",
    "plt.plot(nbr_gmm, Othprecisions,'o',marker='+')\n",
    "plt.title('Précision des others selon le nombre de gaussiennes')\n",
    "#plt.axis('off')\n",
    "plt.subplot(339)\n",
    "plt.plot(nbr_gmm,Othf1s,'o',marker='+')\n",
    "plt.title('Score F1 des others selon le nombre de gaussiennes')\n",
    "#plt.axis('off')"
   ]
  },
  {
   "cell_type": "code",
   "execution_count": null,
   "metadata": {},
   "outputs": [],
   "source": [
    "# data = {'apples': 10, 'oranges': 15, 'lemons': 5, 'limes': 20}\n",
    "# names = list(data.keys())\n",
    "# values = list(data.values())\n",
    "\n",
    "# fig, axs = plt.subplots(1, 3, figsize=(9, 3), sharey=True)\n",
    "# axs[0].bar(names, values)\n",
    "# axs[1].scatter(names, values)\n",
    "# axs[2].plot(names, values)\n",
    "# fig.suptitle('Categorical Plotting')"
   ]
  },
  {
   "cell_type": "markdown",
   "metadata": {},
   "source": [
    "### Analyse à 3 $\\sigma$"
   ]
  },
  {
   "cell_type": "code",
   "execution_count": 655,
   "metadata": {},
   "outputs": [],
   "source": [
    "result3sig = gmmAnalyisMisclass(predicted_test, labels_test,3)"
   ]
  },
  {
   "cell_type": "code",
   "execution_count": 656,
   "metadata": {},
   "outputs": [
    {
     "data": {
      "text/plain": [
       "Text(0.5, 1.0, 'Justesse (accuracy) de la classification en fonction du nombre de gaussiennes')"
      ]
     },
     "execution_count": 656,
     "metadata": {},
     "output_type": "execute_result"
    },
    {
     "data": {
      "image/png": "[encoded data removed]",
      "text/plain": [
       "<Figure size 432x288 with 1 Axes>"
      ]
     },
     "metadata": {
      "needs_background": "light"
     },
     "output_type": "display_data"
    }
   ],
   "source": [
    "# accuracy vs nbr gaussiennes\n",
    "accuracies = []\n",
    "errors = []\n",
    "for gmm in result:\n",
    "    accuracies.append(gmm[0][0])\n",
    "    errors.append(gmm[0][1])\n",
    "plt.plot(nbr_gmm,accuracies,'o',marker='+')\n",
    "#plt.plot(nbr_gmm,errors, 'ro')\n",
    "\n",
    "plt.title('Justesse (accuracy) de la classification en fonction du nombre de gaussiennes')\n"
   ]
  },
  {
   "cell_type": "code",
   "execution_count": 654,
   "metadata": {},
   "outputs": [
    {
     "data": {
      "text/plain": [
       "[-71.26813875123658, 7.385962093073901]"
      ]
     },
     "execution_count": 654,
     "metadata": {},
     "output_type": "execute_result"
    }
   ],
   "source": [
    "nbr_gmm = np.arange(3,len(result)+3,1).tolist()\n",
    "\n",
    "#critères pour croissants\n",
    "Crprecisions = []\n",
    "for gmm in result:\n",
    "    Crprecisions.append(gmm[1][0])\n",
    "Crrecalls = []\n",
    "for gmm in result:\n",
    "    Crrecalls.append(gmm[1][1])\n",
    "\n",
    "Crf1s = []\n",
    "for gmm in result:\n",
    "    Crf1s.append(gmm[1][2])\n",
    "    \n",
    "#critères pour slippers\n",
    "Slprecisions = []\n",
    "for gmm in result:\n",
    "    Slprecisions.append(gmm[2][0])\n",
    "Slrecalls = []\n",
    "for gmm in result:\n",
    "    Slrecalls.append(gmm[2][1])\n",
    "\n",
    "Slf1s = []\n",
    "for gmm in result:\n",
    "    Slf1s.append(gmm[2][2])\n",
    "\n",
    "\n",
    "#critères pour other\n",
    "Othprecisions = []\n",
    "for gmm in result:\n",
    "    Othprecisions.append(gmm[3][0])\n",
    "Othrecalls = []\n",
    "for gmm in result:\n",
    "    Othrecalls.append(gmm[3][1])\n",
    "\n",
    "Othf1s = []\n",
    "for gmm in result:\n",
    "    Othf1s.append(gmm[3][2])"
   ]
  },
  {
   "cell_type": "code",
   "execution_count": 657,
   "metadata": {},
   "outputs": [
    {
     "data": {
      "text/plain": [
       "Text(0.5, 1.0, 'Score F1 des others selon le nombre de gaussiennes')"
      ]
     },
     "execution_count": 657,
     "metadata": {},
     "output_type": "execute_result"
    },
    {
     "data": {
      "image/png": "[encoded data removed]",
      "text/plain": [
       "<Figure size 1440x720 with 9 Axes>"
      ]
     },
     "metadata": {
      "needs_background": "light"
     },
     "output_type": "display_data"
    }
   ],
   "source": [
    "plt.figure(figsize=(20, 10))\n",
    "\n",
    "plt.subplot(331)\n",
    "plt.plot(nbr_gmm, Crrecalls,'o',marker='+')\n",
    "plt.title('Recall des croissants selon le nombre de gaussiennes')\n",
    "#plt.axis('off')\n",
    "plt.subplot(332)\n",
    "plt.plot(nbr_gmm, Crprecisions,'o',marker='+')\n",
    "plt.title('Précision des croissants selon le nombre de gaussiennes')\n",
    "#plt.axis('off')\n",
    "plt.subplot(333)\n",
    "plt.plot(nbr_gmm,Crf1s,'o',marker='+')\n",
    "plt.title('Score F1 des croissants selon le nombre de gaussiennes')\n",
    "#plt.axis('off')\n",
    "\n",
    "#plt.figure(figsize=(20, 10))\n",
    "\n",
    "plt.subplot(334)\n",
    "plt.plot(nbr_gmm, Slrecalls,'o',marker='+')\n",
    "plt.title('Recall des slippers selon le nombre de gaussiennes')\n",
    "#plt.axis('off')\n",
    "plt.subplot(335)\n",
    "plt.plot(nbr_gmm, Slprecisions,'o',marker='+')\n",
    "plt.title('Précision des slippers selon le nombre de gaussiennes')\n",
    "#plt.axis('off')\n",
    "plt.subplot(336)\n",
    "plt.plot(nbr_gmm,Slf1s,'o',marker='+')\n",
    "plt.title('Score F1 des slippers selon le nombre de gaussiennes')\n",
    "#plt.axis('off')\n",
    "\n",
    "#plt.figure(figsize=(20, 10))\n",
    "\n",
    "plt.subplot(337)\n",
    "plt.plot(nbr_gmm, Othrecalls,'o',marker='+')\n",
    "plt.title('Recall des others selon le nombre de gaussiennes')\n",
    "#plt.axis('off')\n",
    "plt.subplot(338)\n",
    "plt.plot(nbr_gmm, Othprecisions,'o',marker='+')\n",
    "plt.title('Précision des others selon le nombre de gaussiennes')\n",
    "#plt.axis('off')\n",
    "plt.subplot(339)\n",
    "plt.plot(nbr_gmm,Othf1s,'o',marker='+')\n",
    "plt.title('Score F1 des others selon le nombre de gaussiennes')\n",
    "#plt.axis('off')"
   ]
  },
  {
   "cell_type": "code",
   "execution_count": null,
   "metadata": {},
   "outputs": [],
   "source": []
  },
  {
   "cell_type": "markdown",
   "metadata": {},
   "source": [
    "### Etudier"
   ]
  },
  {
   "cell_type": "markdown",
   "metadata": {},
   "source": [
    "* Shift de range\n",
    "* Convergence training error : thresold over-fitting\n",
    "* Ic threshold adapted : Cr : 2.5sig - Sli 3.5sig "
   ]
  },
  {
   "cell_type": "markdown",
   "metadata": {},
   "source": [
    "## Recherche d'un Ic optimal"
   ]
  },
  {
   "cell_type": "code",
   "execution_count": 804,
   "metadata": {},
   "outputs": [],
   "source": [
    "grid = {'sigmaCr':np.arange(2,3.5,0.1),'sigmaSl':np.arange(2,3.5,0.1)}"
   ]
  },
  {
   "cell_type": "code",
   "execution_count": 805,
   "metadata": {
    "scrolled": true
   },
   "outputs": [
    {
     "data": {
      "text/plain": [
       "{'sigmaCr': array([2. , 2.1, 2.2, 2.3, 2.4, 2.5, 2.6, 2.7, 2.8, 2.9, 3. , 3.1, 3.2,\n",
       "        3.3, 3.4]),\n",
       " 'sigmaSl': array([2. , 2.1, 2.2, 2.3, 2.4, 2.5, 2.6, 2.7, 2.8, 2.9, 3. , 3.1, 3.2,\n",
       "        3.3, 3.4])}"
      ]
     },
     "execution_count": 805,
     "metadata": {},
     "output_type": "execute_result"
    }
   ],
   "source": [
    "grid"
   ]
  },
  {
   "cell_type": "code",
   "execution_count": 806,
   "metadata": {},
   "outputs": [
    {
     "data": {
      "text/plain": [
       "225"
      ]
     },
     "execution_count": 806,
     "metadata": {},
     "output_type": "execute_result"
    }
   ],
   "source": [
    "from sklearn.model_selection import ParameterGrid\n",
    "len(list(ParameterGrid(grid)))   \n"
   ]
  },
  {
   "cell_type": "code",
   "execution_count": null,
   "metadata": {},
   "outputs": [],
   "source": [
    "#ajout d'un index pour retrouver les paramètres de la grille e recherche"
   ]
  },
  {
   "cell_type": "markdown",
   "metadata": {},
   "source": [
    "## Recherche pour un g=k donné"
   ]
  },
  {
   "cell_type": "code",
   "execution_count": 807,
   "metadata": {},
   "outputs": [],
   "source": [
    "def intervalCGrid(searchGridSigma,k):\n",
    "    \n",
    "    result = []\n",
    "    index = 0;\n",
    "    for param in list(ParameterGrid(searchGridSigma)):\n",
    "        sigmaCr = param['sigmaCr']\n",
    "        sigmaSl = param['sigmaSl']\n",
    "        gmm = mixture.GaussianMixture(n_components=k)\n",
    "        g = gmm.fit(predicted_test)\n",
    "        weights = g.weights_\n",
    "        means = []\n",
    "        means = g.means_\n",
    "        covars = g.covariances_\n",
    "        meanSl = min(means)[0]\n",
    "        meanCr = max(means)[0]\n",
    "        varSli = covars[np.where(means == min(means))][0][0]\n",
    "        varCr = covars[np.where(means == max(means))][0][0]\n",
    "        \n",
    "        ## We got then the confidence interval\n",
    "        paramSli = [(meanSl), (math.sqrt(varSli))]\n",
    "        paramCr = [(meanCr), (math.sqrt(varCr))]\n",
    "        sl = sigmaSl*math.sqrt(varSli)\n",
    "        sC = sigmaCr*math.sqrt(varCr)\n",
    "        intervalSli = []\n",
    "        intervalSli.append(meanSl-sl)\n",
    "        intervalSli.append(meanSl+sl)\n",
    "        intervalCr = []\n",
    "        intervalCr.append(meanCr-sC)\n",
    "        intervalCr.append(meanCr+sC)\n",
    "        ## predictions\n",
    "        pred_labels = []\n",
    "\n",
    "        for i in range(len(predicted_test)):\n",
    "            if((predicted_test[i]>intervalCr[0])): #Croissants\n",
    "                pred_labels.append(2)\n",
    "            elif((predicted_test[i]<intervalSli[1])): #Slippers\n",
    "                pred_labels.append(0)\n",
    "            else: \n",
    "                pred_labels.append(1) #Other : if they fit in no confidence interval, we assume they are just \"others\"\n",
    "\n",
    "        pred_labels = np.asarray(pred_labels)\n",
    "\n",
    "        \n",
    "        \n",
    "        ## true labels\n",
    "        true_labels = []\n",
    "        for i in range(len(labels_test)):\n",
    "            if(labels_test[i] == 'Slippers'):\n",
    "                true_labels.append(0)\n",
    "            elif(labels_test[i] == 'Croissants'):\n",
    "                true_labels.append(2)\n",
    "            else : \n",
    "                true_labels.append(1)\n",
    "\n",
    "        true_labels = np.asarray(true_labels)\n",
    "        \n",
    "        \n",
    "        \n",
    "        #cm = confusion_matrix(y_true, y_pred, labels=labels)\n",
    "\n",
    "        \n",
    "        cm = confusion_matrix(true_labels, pred_labels, labels=[2, 0, 1])\n",
    "                \n",
    "        \n",
    "        ## critères de perf\n",
    "        \n",
    "        tp = 0\n",
    "        err = 0\n",
    "        \n",
    "        for i in range(len(cm)):\n",
    "            for j in range(len(cm)):\n",
    "                if i==j:\n",
    "                    tp = cm[i][j] + tp\n",
    "                else:\n",
    "                    err = err + cm[i][j]\n",
    "            \n",
    "        \n",
    "        acc_rate = tp /np.sum(cm)\n",
    "        err_rate = err/np.sum(cm)\n",
    "        \n",
    "        \n",
    "        res_acc = precision_recall_fscore_support(true_labels, pred_labels, \n",
    "                                beta=1.0, \n",
    "                                labels=[2,0,1], \n",
    "                                pos_label=1, \n",
    "                                average=None, \n",
    "                                warn_for=('precision', 'recall', 'f-score'), \n",
    "                                sample_weight=None)\n",
    "\n",
    "        precision = res_acc[0]\n",
    "        recall = res_acc[1]\n",
    "        f1 = res_acc[2]\n",
    "        gmm_res = []\n",
    "        gmm_res.append([index,[acc_rate,err_rate]])\n",
    "        for i in range(3):\n",
    "                gmm_res.append([precision[i],recall[i],f1[i]])\n",
    "        result.append(gmm_res)     \n",
    "        index+=1\n",
    "        \n",
    "    return result    "
   ]
  },
  {
   "cell_type": "code",
   "execution_count": 809,
   "metadata": {},
   "outputs": [],
   "source": [
    "resultGrid_g5 = intervalCGrid(grid,5)"
   ]
  },
  {
   "cell_type": "code",
   "execution_count": 800,
   "metadata": {},
   "outputs": [
    {
     "data": {
      "text/plain": [
       "[[[0, [0.8233009708737864, 0.1766990291262136]],\n",
       "  [0.7218788627935723, 0.906832298136646, 0.8038540949759119],\n",
       "  [0.9026415094339623, 0.8952095808383234, 0.8989101841413002],\n",
       "  [0.799163179916318, 0.6882882882882883, 0.739593417231365]],\n",
       " [[1, [0.8258899676375404, 0.17411003236245956]],\n",
       "  [0.7275, 0.9037267080745341, 0.8060941828254847],\n",
       "  [0.8969607116382505, 0.905688622754491, 0.9013035381750465],\n",
       "  [0.8076514346439958, 0.6846846846846847, 0.7411019015114578]],\n",
       " [[2, [0.8255663430420712, 0.1744336569579288]],\n",
       "  [0.7218788627935723, 0.906832298136646, 0.8038540949759119],\n",
       "  [0.8954344624447718, 0.9101796407185628, 0.902746844840386],\n",
       "  [0.8136511375947996, 0.6765765765765765, 0.7388096409247417]],\n",
       " [[3, [0.8252427184466019, 0.17475728155339806]],\n",
       "  [0.7218788627935723, 0.906832298136646, 0.8038540949759119],\n",
       "  [0.8896151053013798, 0.9169161676646707, 0.903059343899742],\n",
       "  [0.8196902654867256, 0.6675675675675675, 0.7358490566037735]],\n",
       " [[4, [0.8258899676375404, 0.17411003236245956]],\n",
       "  [0.7218788627935723, 0.906832298136646, 0.8038540949759119],\n",
       "  [0.8847530422333572, 0.9251497005988024, 0.9045005488474205],\n",
       "  [0.8280542986425339, 0.6594594594594595, 0.7342026078234705]],\n",
       " [[5, [0.8249190938511327, 0.17508090614886732]],\n",
       "  [0.7302383939774153, 0.9037267080745341, 0.8077723802914643],\n",
       "  [0.8747361013370866, 0.9303892215568862, 0.9017047515415306],\n",
       "  [0.8302752293577982, 0.6522522522522523, 0.7305751765893037]],\n",
       " [[6, [0.8220064724919094, 0.1779935275080906]],\n",
       "  [0.7218788627935723, 0.906832298136646, 0.8038540949759119],\n",
       "  [0.8724597056762439, 0.9318862275449101, 0.9011943539630836],\n",
       "  [0.832552693208431, 0.6405405405405405, 0.7240325865580448]],\n",
       " [[7, [0.8197411003236246, 0.1802588996763754]],\n",
       "  [0.7218788627935723, 0.906832298136646, 0.8038540949759119],\n",
       "  [0.8631361760660248, 0.9393712574850299, 0.8996415770609318],\n",
       "  [0.8391777509068924, 0.6252252252252253, 0.7165720185854415]],\n",
       " [[8, [0.8174757281553398, 0.1825242718446602]],\n",
       "  [0.7045454545454546, 0.9145962732919255, 0.795945945945946],\n",
       "  [0.9019607843137255, 0.8952095808383234, 0.898572501878287],\n",
       "  [0.7984913793103449, 0.6675675675675675, 0.7271835132482826]],\n",
       " [[9, [0.8207119741100324, 0.17928802588996764]],\n",
       "  [0.7092882991556092, 0.9130434782608695, 0.7983706720977597],\n",
       "  [0.8957871396895787, 0.907185628742515, 0.9014503532911863],\n",
       "  [0.8105726872246696, 0.6630630630630631, 0.7294350842418236]],\n",
       " [[10, [0.8223300970873786, 0.17766990291262136]],\n",
       "  [0.7096385542168675, 0.9145962732919255, 0.7991858887381276],\n",
       "  [0.8931967812728603, 0.9139221556886228, 0.9034406215316316],\n",
       "  [0.8185890257558791, 0.6585585585585586, 0.7299051422865701]],\n",
       " [[11, [0.8184466019417476, 0.18155339805825244]],\n",
       "  [0.7020262216924911, 0.9145962732919255, 0.794335805799056],\n",
       "  [0.8895348837209303, 0.9161676646706587, 0.9026548672566371],\n",
       "  [0.8182857142857143, 0.645045045045045, 0.7214105793450882]],\n",
       " [[12, [0.8194174757281554, 0.18058252427184465]],\n",
       "  [0.7092882991556092, 0.9130434782608695, 0.7983706720977597],\n",
       "  [0.8791755508173419, 0.9258982035928144, 0.9019321910317171],\n",
       "  [0.8278688524590164, 0.636936936936937, 0.719959266802444]],\n",
       " [[13, [0.8161812297734627, 0.18381877022653723]],\n",
       "  [0.7020262216924911, 0.9145962732919255, 0.794335805799056],\n",
       "  [0.8779276082327893, 0.9258982035928144, 0.9012750455373406],\n",
       "  [0.8266033254156769, 0.6270270270270271, 0.7131147540983608]],\n",
       " [[14, [0.8161812297734627, 0.18381877022653723]],\n",
       "  [0.7092882991556092, 0.9130434782608695, 0.7983706720977597],\n",
       "  [0.8652384243261921, 0.937125748502994, 0.8997484728710025],\n",
       "  [0.8378378378378378, 0.6144144144144145, 0.708939708939709]],\n",
       " [[15, [0.8119741100323624, 0.18802588996763753]],\n",
       "  [0.7053892215568862, 0.9145962732919255, 0.7964841108857336],\n",
       "  [0.8569482288828338, 0.9416167664670658, 0.8972895863052782],\n",
       "  [0.841168996188056, 0.5963963963963964, 0.697944122298366]],\n",
       " [[16, [0.8142394822006472, 0.18576051779935276]],\n",
       "  [0.6913294797687861, 0.9285714285714286, 0.7925778661365143],\n",
       "  [0.9026415094339623, 0.8952095808383234, 0.8989101841413002],\n",
       "  [0.8022222222222222, 0.6504504504504505, 0.718407960199005]],\n",
       " [[17, [0.8161812297734627, 0.18381877022653723]],\n",
       "  [0.6921296296296297, 0.9285714285714286, 0.7931034482758621],\n",
       "  [0.8976261127596439, 0.905688622754491, 0.9016393442622952],\n",
       "  [0.8132118451025057, 0.6432432432432432, 0.7183098591549295]],\n",
       " [[18, [0.816504854368932, 0.18349514563106797]],\n",
       "  [0.6913294797687861, 0.9285714285714286, 0.7925778661365143],\n",
       "  [0.8954344624447718, 0.9101796407185628, 0.902746844840386],\n",
       "  [0.817762399077278, 0.6387387387387388, 0.7172483560950936]],\n",
       " [[19, [0.8161812297734627, 0.18381877022653723]],\n",
       "  [0.6921296296296297, 0.9285714285714286, 0.7931034482758621],\n",
       "  [0.8889695210449927, 0.9169161676646707, 0.9027266028002947],\n",
       "  [0.8242924528301887, 0.6297297297297297, 0.7139938712972421]],\n",
       " [[20, [0.8171521035598706, 0.18284789644012944]],\n",
       "  [0.6921296296296297, 0.9285714285714286, 0.7931034482758621],\n",
       "  [0.8847530422333572, 0.9251497005988024, 0.9045005488474205],\n",
       "  [0.8335343787696019, 0.6225225225225225, 0.7127385250128933]],\n",
       " [[21, [0.813915857605178, 0.18608414239482202]],\n",
       "  [0.6921296296296297, 0.9285714285714286, 0.7931034482758621],\n",
       "  [0.8779276082327893, 0.9258982035928144, 0.9012750455373406],\n",
       "  [0.8323133414932681, 0.6126126126126126, 0.7057602490918526]],\n",
       " [[22, [0.8122977346278317, 0.18770226537216828]],\n",
       "  [0.6945412311265969, 0.9285714285714286, 0.7946843853820599],\n",
       "  [0.8662508662508662, 0.9356287425149701, 0.899604174163368],\n",
       "  [0.8422391857506362, 0.5963963963963964, 0.6983122362869199]],\n",
       " [[23, [0.8110032362459547, 0.1889967637540453]],\n",
       "  [0.6921296296296297, 0.9285714285714286, 0.7931034482758621],\n",
       "  [0.8631361760660248, 0.9393712574850299, 0.8996415770609318],\n",
       "  [0.8458549222797928, 0.5882882882882883, 0.6939426142401701]],\n",
       " [[24, [0.8116504854368932, 0.1883495145631068]],\n",
       "  [0.6813063063063063, 0.9394409937888198, 0.789817232375979],\n",
       "  [0.9026415094339623, 0.8952095808383234, 0.8989101841413002],\n",
       "  [0.806157354618016, 0.636936936936937, 0.7116255661801711]],\n",
       " [[25, [0.813915857605178, 0.18608414239482202]],\n",
       "  [0.6856492027334852, 0.9347826086956522, 0.7910643889618922],\n",
       "  [0.8957871396895787, 0.907185628742515, 0.9014503532911863],\n",
       "  [0.8160651920838184, 0.6315315315315315, 0.7120365667851701]],\n",
       " [[26, [0.8158576051779936, 0.18414239482200648]],\n",
       "  [0.6856492027334852, 0.9347826086956522, 0.7910643889618922],\n",
       "  [0.8945054945054945, 0.9139221556886228, 0.904109589041096],\n",
       "  [0.8240850059031877, 0.6288288288288288, 0.7133367399080225]],\n",
       " [[27, [0.8142394822006472, 0.18576051779935276]],\n",
       "  [0.6856492027334852, 0.9347826086956522, 0.7910643889618922],\n",
       "  [0.8878437047756874, 0.9184131736526946, 0.902869757174393],\n",
       "  [0.827710843373494, 0.6189189189189189, 0.7082474226804124]],\n",
       " [[28, [0.8126213592233009, 0.18737864077669902]],\n",
       "  [0.6856492027334852, 0.9347826086956522, 0.7910643889618922],\n",
       "  [0.8791755508173419, 0.9258982035928144, 0.9019321910317171],\n",
       "  [0.8347826086956521, 0.6054054054054054, 0.7018276762402089]],\n",
       " [[29, [0.8119741100323624, 0.18802588996763753]],\n",
       "  [0.6856492027334852, 0.9347826086956522, 0.7910643889618922],\n",
       "  [0.8747361013370866, 0.9303892215568862, 0.9017047515415306],\n",
       "  [0.8394437420986094, 0.5981981981981982, 0.6985796948974224]],\n",
       " [[30, [0.8093851132686084, 0.1906148867313916]],\n",
       "  [0.6856492027334852, 0.9347826086956522, 0.7910643889618922],\n",
       "  [0.8652384243261921, 0.937125748502994, 0.8997484728710025],\n",
       "  [0.8457516339869281, 0.5828828828828829, 0.6901333333333333]],\n",
       " [[31, [0.8067961165048544, 0.19320388349514564]],\n",
       "  [0.6856492027334852, 0.9347826086956522, 0.7910643889618922],\n",
       "  [0.8570456092579987, 0.9423652694610778, 0.8976827094474152],\n",
       "  [0.8506056527590848, 0.5693693693693693, 0.6821370750134916]],\n",
       " [[32, [0.8051779935275081, 0.1948220064724919]],\n",
       "  [0.6637554585152838, 0.9440993788819876, 0.7794871794871794],\n",
       "  [0.9026415094339623, 0.8952095808383234, 0.8989101841413002],\n",
       "  [0.8056537102473498, 0.6162162162162163, 0.6983154670750383]],\n",
       " [[33, [0.8074433656957929, 0.1925566343042071]],\n",
       "  [0.667032967032967, 0.9425465838509317, 0.7812097812097814],\n",
       "  [0.8957871396895787, 0.907185628742515, 0.9014503532911863],\n",
       "  [0.8174123337363967, 0.609009009009009, 0.697986577181208]],\n",
       " [[34, [0.8087378640776699, 0.1912621359223301]],\n",
       "  [0.667032967032967, 0.9425465838509317, 0.7812097812097814],\n",
       "  [0.8931967812728603, 0.9139221556886228, 0.9034406215316316],\n",
       "  [0.8253382533825339, 0.6045045045045045, 0.6978679147165887]],\n",
       " [[35, [0.8067961165048544, 0.19320388349514564]],\n",
       "  [0.6637554585152838, 0.9440993788819876, 0.7794871794871794],\n",
       "  [0.8895348837209303, 0.9161676646706587, 0.9026548672566371],\n",
       "  [0.8283208020050126, 0.5954954954954955, 0.6928721174004192]],\n",
       " [[36, [0.8084142394822007, 0.19158576051779935]],\n",
       "  [0.6637554585152838, 0.9440993788819876, 0.7794871794871794],\n",
       "  [0.886021505376344, 0.9251497005988024, 0.9051629439765653],\n",
       "  [0.8395378690629012, 0.5891891891891892, 0.6924298570672314]],\n",
       " [[37, [0.8045307443365696, 0.19546925566343043]],\n",
       "  [0.6637554585152838, 0.9440993788819876, 0.7794871794871794],\n",
       "  [0.8779276082327893, 0.9258982035928144, 0.9012750455373406],\n",
       "  [0.8379084967320262, 0.5774774774774775, 0.6837333333333333]],\n",
       " [[38, [0.8019417475728156, 0.19805825242718447]],\n",
       "  [0.6663007683863886, 0.9425465838509317, 0.7807073954983923],\n",
       "  [0.8650519031141869, 0.9356287425149701, 0.8989572096368212],\n",
       "  [0.8460490463215259, 0.5594594594594594, 0.6735357917570499]],\n",
       " [[39, [0.8003236245954692, 0.19967637540453073]],\n",
       "  [0.667032967032967, 0.9425465838509317, 0.7812097812097814],\n",
       "  [0.8570456092579987, 0.9423652694610778, 0.8976827094474152],\n",
       "  [0.8537271448663853, 0.5468468468468468, 0.6666666666666666]],\n",
       " [[40, [0.8029126213592233, 0.1970873786407767]],\n",
       "  [0.6536016949152542, 0.9580745341614907, 0.7770780856423174],\n",
       "  [0.9016516516516516, 0.8989520958083832, 0.9002998500749624],\n",
       "  [0.8144963144963145, 0.5972972972972973, 0.6891891891891893]],\n",
       " [[41, [0.8029126213592233, 0.1970873786407767]],\n",
       "  [0.651578947368421, 0.9611801242236024, 0.7766624843161857],\n",
       "  [0.8976261127596439, 0.905688622754491, 0.9016393442622952],\n",
       "  [0.8232323232323232, 0.5873873873873874, 0.6855941114616193]],\n",
       " [[42, [0.8051779935275081, 0.1948220064724919]],\n",
       "  [0.6536016949152542, 0.9580745341614907, 0.7770780856423174],\n",
       "  [0.8945054945054945, 0.9139221556886228, 0.904109589041096],\n",
       "  [0.8322663252240717, 0.5855855855855856, 0.6874669487043893]],\n",
       " [[43, [0.8035598705501618, 0.19644012944983819]],\n",
       "  [0.6536016949152542, 0.9580745341614907, 0.7770780856423174],\n",
       "  [0.8878437047756874, 0.9184131736526946, 0.902869757174393],\n",
       "  [0.8363874345549738, 0.5756756756756757, 0.6819637139807898]],\n",
       " [[44, [0.8029126213592233, 0.1970873786407767]],\n",
       "  [0.651578947368421, 0.9611801242236024, 0.7766624843161857],\n",
       "  [0.8823109843081313, 0.9258982035928144, 0.9035792549306063],\n",
       "  [0.8468834688346883, 0.5630630630630631, 0.6764069264069265]],\n",
       " [[45, [0.8003236245954692, 0.19967637540453073]],\n",
       "  [0.650893796004206, 0.9611801242236024, 0.7761755485893417],\n",
       "  [0.8779276082327893, 0.9258982035928144, 0.9012750455373406],\n",
       "  [0.8452054794520548, 0.5558558558558558, 0.6706521739130435]],\n",
       " [[46, [0.7993527508090615, 0.20064724919093851]],\n",
       "  [0.6502100840336135, 0.9611801242236024, 0.7756892230576441],\n",
       "  [0.8724597056762439, 0.9318862275449101, 0.9011943539630836],\n",
       "  [0.8523206751054853, 0.5459459459459459, 0.6655683690280065]],\n",
       " [[47, [0.7961165048543689, 0.20388349514563106]],\n",
       "  [0.6536016949152542, 0.9580745341614907, 0.7770780856423174],\n",
       "  [0.8570456092579987, 0.9423652694610778, 0.8976827094474152],\n",
       "  [0.8626292466765141, 0.5261261261261261, 0.6536094012311137]],\n",
       " [[48, [0.7915857605177994, 0.20841423948220064]],\n",
       "  [0.6300813008130082, 0.9627329192546584, 0.7616707616707618],\n",
       "  [0.9026415094339623, 0.8952095808383234, 0.8989101841413002],\n",
       "  [0.8066581306017926, 0.5675675675675675, 0.6663141195134848]],\n",
       " [[49, [0.7935275080906149, 0.2064724919093851]],\n",
       "  [0.6307222787385555, 0.9627329192546584, 0.762138905961893],\n",
       "  [0.8976261127596439, 0.905688622754491, 0.9016393442622952],\n",
       "  [0.8194993412384717, 0.5603603603603604, 0.6655965757089353]],\n",
       " [[50, [0.7987055016181229, 0.20129449838187702]],\n",
       "  [0.6388028895768834, 0.9611801242236024, 0.7675139491630502],\n",
       "  [0.8945054945054945, 0.9139221556886228, 0.904109589041096],\n",
       "  [0.8306878306878307, 0.5657657657657658, 0.6730975348338692]],\n",
       " [[51, [0.7970873786407767, 0.2029126213592233]],\n",
       "  [0.6388028895768834, 0.9611801242236024, 0.7675139491630502],\n",
       "  [0.8878437047756874, 0.9184131736526946, 0.902869757174393],\n",
       "  [0.8349120433017592, 0.5558558558558558, 0.6673877771768524]],\n",
       " [[52, [0.7935275080906149, 0.2064724919093851]],\n",
       "  [0.6339468302658486, 0.9627329192546584, 0.7644882860665845],\n",
       "  [0.879800853485064, 0.9258982035928144, 0.9022611232676878],\n",
       "  [0.8427762039660056, 0.536036036036036, 0.6552863436123347]],\n",
       " [[53, [0.7909385113268609, 0.20906148867313915]],\n",
       "  [0.6300813008130082, 0.9627329192546584, 0.7616707616707618],\n",
       "  [0.8779276082327893, 0.9258982035928144, 0.9012750455373406],\n",
       "  [0.8421807747489239, 0.5288288288288289, 0.6496956281128943]],\n",
       " [[54, [0.7906148867313916, 0.20938511326860842]],\n",
       "  [0.6307222787385555, 0.9627329192546584, 0.762138905961893],\n",
       "  [0.8724597056762439, 0.9318862275449101, 0.9011943539630836],\n",
       "  [0.85, 0.5207207207207207, 0.6458100558659217]],\n",
       " [[55, [0.7896440129449838, 0.21035598705501618]],\n",
       "  [0.6388028895768834, 0.9611801242236024, 0.7675139491630502],\n",
       "  [0.8570456092579987, 0.9423652694610778, 0.8976827094474152],\n",
       "  [0.8619631901840491, 0.5063063063063064, 0.637911464245176]],\n",
       " [[56, [0.786084142394822, 0.213915857605178]],\n",
       "  [0.6184340931615461, 0.968944099378882, 0.7549909255898366],\n",
       "  [0.9026415094339623, 0.8952095808383234, 0.8989101841413002],\n",
       "  [0.8055555555555556, 0.5486486486486486, 0.652733118971061]],\n",
       " [[57, [0.7896440129449838, 0.21035598705501618]],\n",
       "  [0.6232464929859719, 0.9658385093167702, 0.7576126674786845],\n",
       "  [0.8957871396895787, 0.907185628742515, 0.9014503532911863],\n",
       "  [0.8200270635994588, 0.5459459459459459, 0.6554894537587884]],\n",
       " [[58, [0.7915857605177994, 0.20841423948220064]],\n",
       "  [0.6232464929859719, 0.9658385093167702, 0.7576126674786845],\n",
       "  [0.8945054945054945, 0.9139221556886228, 0.904109589041096],\n",
       "  [0.8294360385144429, 0.5432432432432432, 0.6565051714752314]],\n",
       " [[59, [0.7880258899676376, 0.21197411003236247]],\n",
       "  [0.6184340931615461, 0.968944099378882, 0.7549909255898366],\n",
       "  [0.8896151053013798, 0.9169161676646707, 0.903059343899742],\n",
       "  [0.8323863636363636, 0.527927927927928, 0.6460859977949284]],\n",
       " [[60, [0.7886731391585761, 0.21132686084142394]],\n",
       "  [0.6184340931615461, 0.968944099378882, 0.7549909255898366],\n",
       "  [0.8847530422333572, 0.9251497005988024, 0.9045005488474205],\n",
       "  [0.8435672514619883, 0.5198198198198198, 0.6432552954292085]],\n",
       " [[61, [0.7886731391585761, 0.21132686084142394]],\n",
       "  [0.6253776435045317, 0.9642857142857143, 0.7587049480757483],\n",
       "  [0.8736842105263158, 0.9318862275449101, 0.9018471568272365],\n",
       "  [0.8497023809523809, 0.5144144144144144, 0.6408529741863075]],\n",
       " [[62, [0.7847896440129449, 0.215210355987055]],\n",
       "  [0.6184340931615461, 0.968944099378882, 0.7549909255898366],\n",
       "  [0.8724597056762439, 0.9318862275449101, 0.9011943539630836],\n",
       "  [0.8501529051987767, 0.5009009009009009, 0.6303854875283448]],\n",
       " [[63, [0.7822006472491909, 0.21779935275080906]],\n",
       "  [0.6232464929859719, 0.9658385093167702, 0.7576126674786845],\n",
       "  [0.8569482288828338, 0.9416167664670658, 0.8972895863052782],\n",
       "  [0.8605769230769231, 0.4837837837837838, 0.6193771626297578]]]"
      ]
     },
     "execution_count": 800,
     "metadata": {},
     "output_type": "execute_result"
    }
   ],
   "source": [
    "resultGrid_g5"
   ]
  },
  {
   "cell_type": "markdown",
   "metadata": {},
   "source": [
    "### Meilleure modeles (g=5)"
   ]
  },
  {
   "cell_type": "code",
   "execution_count": 844,
   "metadata": {},
   "outputs": [],
   "source": [
    "accuracy = []\n",
    "averageRecall = []\n",
    "averageF1 = []\n",
    "for gmm in resultGrid_g5:\n",
    "    ave = 0\n",
    "    avef1 = 0\n",
    "    avef1 = (gmm[1][2] + gmm[2][2] + gmm[3][2])/3\n",
    "    ave = (gmm[1][1] + gmm[2][1] + gmm[3][1])/3\n",
    "    averageRecall.append(ave)\n",
    "    averageF1.append(avef1)\n",
    "    accuracy.append(gmm[0][1][0])   \n",
    "    "
   ]
  },
  {
   "cell_type": "code",
   "execution_count": 845,
   "metadata": {},
   "outputs": [],
   "source": [
    "bestAccInd = accuracy.index(max(accuracy))"
   ]
  },
  {
   "cell_type": "code",
   "execution_count": 846,
   "metadata": {},
   "outputs": [],
   "source": [
    "bestAvRecInd = averageRecall.index(max(averageRecall))"
   ]
  },
  {
   "cell_type": "code",
   "execution_count": 847,
   "metadata": {},
   "outputs": [],
   "source": [
    "bestAvF1Ind = averageF1.index(max(averageF1))"
   ]
  },
  {
   "cell_type": "code",
   "execution_count": 848,
   "metadata": {},
   "outputs": [
    {
     "data": {
      "text/plain": [
       "[[4, [0.8288025889967637, 0.17119741100323624]],\n",
       " [0.7302383939774153, 0.9037267080745341, 0.8077723802914643],\n",
       " [0.8945054945054945, 0.9139221556886228, 0.904109589041096],\n",
       " [0.8168103448275862, 0.6828828828828829, 0.7438665358194307]]"
      ]
     },
     "execution_count": 848,
     "metadata": {},
     "output_type": "execute_result"
    }
   ],
   "source": [
    "resultGrid_g5[bestAvF1Ind]"
   ]
  },
  {
   "cell_type": "code",
   "execution_count": 849,
   "metadata": {},
   "outputs": [
    {
     "data": {
      "text/plain": [
       "[[4, [0.8288025889967637, 0.17119741100323624]],\n",
       " [0.7302383939774153, 0.9037267080745341, 0.8077723802914643],\n",
       " [0.8945054945054945, 0.9139221556886228, 0.904109589041096],\n",
       " [0.8168103448275862, 0.6828828828828829, 0.7438665358194307]]"
      ]
     },
     "execution_count": 849,
     "metadata": {},
     "output_type": "execute_result"
    }
   ],
   "source": [
    "resultGrid_g5[bestAccInd]"
   ]
  },
  {
   "cell_type": "code",
   "execution_count": null,
   "metadata": {},
   "outputs": [],
   "source": []
  },
  {
   "cell_type": "code",
   "execution_count": 850,
   "metadata": {},
   "outputs": [
    {
     "data": {
      "text/plain": [
       "{'sigmaCr': 2.0, 'sigmaSl': 2.4000000000000004}"
      ]
     },
     "execution_count": 850,
     "metadata": {},
     "output_type": "execute_result"
    }
   ],
   "source": [
    "list(ParameterGrid(grid))[bestAccInd]"
   ]
  },
  {
   "cell_type": "code",
   "execution_count": 822,
   "metadata": {},
   "outputs": [
    {
     "data": {
      "text/plain": [
       "[[4, [0.8288025889967637, 0.17119741100323624]],\n",
       " [0.7302383939774153, 0.9037267080745341, 0.8077723802914643],\n",
       " [0.8945054945054945, 0.9139221556886228, 0.904109589041096],\n",
       " [0.8168103448275862, 0.6828828828828829, 0.7438665358194307]]"
      ]
     },
     "execution_count": 822,
     "metadata": {},
     "output_type": "execute_result"
    }
   ],
   "source": [
    "resultGrid_g5[bestAvRecInd]"
   ]
  },
  {
   "cell_type": "code",
   "execution_count": 866,
   "metadata": {},
   "outputs": [
    {
     "data": {
      "image/png": "[encoded data removed]",
      "text/plain": [
       "<Figure size 720x720 with 2 Axes>"
      ]
     },
     "metadata": {
      "needs_background": "light"
     },
     "output_type": "display_data"
    }
   ],
   "source": [
    "cm_analysis(true_labels, pred_labels, labels = [2,0,1])"
   ]
  },
  {
   "cell_type": "markdown",
   "metadata": {},
   "source": [
    "### Meilleurs modeles (g=6)"
   ]
  },
  {
   "cell_type": "code",
   "execution_count": 823,
   "metadata": {},
   "outputs": [],
   "source": [
    "resultGrid_g6 = intervalCGrid(grid,6)"
   ]
  },
  {
   "cell_type": "code",
   "execution_count": 824,
   "metadata": {},
   "outputs": [],
   "source": [
    "accuracy = []\n",
    "averageRecall = []\n",
    "averageF1 = []\n",
    "for gmm in resultGrid_g6:\n",
    "    ave = 0\n",
    "    avef1 = 0\n",
    "    avef1 = (gmm[1][2] + gmm[2][2] + gmm[3][2])/3\n",
    "    ave = (gmm[1][1] + gmm[2][1] + gmm[3][1])/3\n",
    "    averageRecall.append(ave)\n",
    "    averageF1.append(avef1)\n",
    "    accuracy.append(gmm[0][1][0])   \n",
    "    "
   ]
  },
  {
   "cell_type": "code",
   "execution_count": 825,
   "metadata": {},
   "outputs": [],
   "source": [
    "bestAvF1Ind = averageF1.index(max(averageF1))"
   ]
  },
  {
   "cell_type": "code",
   "execution_count": 826,
   "metadata": {},
   "outputs": [
    {
     "data": {
      "text/plain": [
       "[[65, [0.8288025889967637, 0.17119741100323624]],\n",
       " [0.7377892030848329, 0.8913043478260869, 0.8073136427566807],\n",
       " [0.8955114054451803, 0.9109281437125748, 0.9031539888682747],\n",
       " [0.8079748163693599, 0.6936936936936937, 0.746485700436258]]"
      ]
     },
     "execution_count": 826,
     "metadata": {},
     "output_type": "execute_result"
    }
   ],
   "source": [
    "resultGrid_g6[bestAvF1Ind]"
   ]
  },
  {
   "cell_type": "code",
   "execution_count": 867,
   "metadata": {},
   "outputs": [
    {
     "data": {
      "text/plain": [
       "{'sigmaCr': 2.0, 'sigmaSl': 2.4000000000000004}"
      ]
     },
     "execution_count": 867,
     "metadata": {},
     "output_type": "execute_result"
    }
   ],
   "source": [
    "list(ParameterGrid(grid))[bestAvRecInd]"
   ]
  },
  {
   "cell_type": "code",
   "execution_count": 843,
   "metadata": {},
   "outputs": [
    {
     "data": {
      "image/png": "[encoded data removed]",
      "text/plain": [
       "<Figure size 720x720 with 2 Axes>"
      ]
     },
     "metadata": {
      "needs_background": "light"
     },
     "output_type": "display_data"
    }
   ],
   "source": [
    "#best f1\n",
    "cm_analysis(true_labels, pred_labels, labels = [2,0,1])"
   ]
  },
  {
   "cell_type": "markdown",
   "metadata": {},
   "source": [
    "### Recherche totale"
   ]
  },
  {
   "cell_type": "code",
   "execution_count": 874,
   "metadata": {},
   "outputs": [],
   "source": [
    "grid = {'sigmaCr':np.arange(2,3.5,0.1),'sigmaSl':np.arange(2,3.5,0.1),'g':np.arange(4,10)}"
   ]
  },
  {
   "cell_type": "code",
   "execution_count": 875,
   "metadata": {},
   "outputs": [
    {
     "data": {
      "text/plain": [
       "1350"
      ]
     },
     "execution_count": 875,
     "metadata": {},
     "output_type": "execute_result"
    }
   ],
   "source": [
    "len(list(ParameterGrid(grid)))"
   ]
  },
  {
   "cell_type": "code",
   "execution_count": 877,
   "metadata": {},
   "outputs": [],
   "source": [
    "def intervalCGrid(searchGrid):\n",
    "    \n",
    "    result = []\n",
    "    index = 0;\n",
    "    for param in list(ParameterGrid(searchGrid)):\n",
    "        sigmaCr = param['sigmaCr']\n",
    "        sigmaSl = param['sigmaSl']\n",
    "        k = param['g']\n",
    "        gmm = mixture.GaussianMixture(n_components=k)\n",
    "        g = gmm.fit(predicted_test)\n",
    "        weights = g.weights_\n",
    "        means = []\n",
    "        means = g.means_\n",
    "        covars = g.covariances_\n",
    "        meanSl = min(means)[0]\n",
    "        meanCr = max(means)[0]\n",
    "        varSli = covars[np.where(means == min(means))][0][0]\n",
    "        varCr = covars[np.where(means == max(means))][0][0]\n",
    "        \n",
    "        ## We got then the confidence interval\n",
    "        paramSli = [(meanSl), (math.sqrt(varSli))]\n",
    "        paramCr = [(meanCr), (math.sqrt(varCr))]\n",
    "        sl = sigmaSl*math.sqrt(varSli)\n",
    "        sC = sigmaCr*math.sqrt(varCr)\n",
    "        intervalSli = []\n",
    "        intervalSli.append(meanSl-sl)\n",
    "        intervalSli.append(meanSl+sl)\n",
    "        intervalCr = []\n",
    "        intervalCr.append(meanCr-sC)\n",
    "        intervalCr.append(meanCr+sC)\n",
    "        ## predictions\n",
    "        pred_labels = []\n",
    "\n",
    "        for i in range(len(predicted_test)):\n",
    "            if((predicted_test[i]>intervalCr[0])): #Croissants\n",
    "                pred_labels.append(2)\n",
    "            elif((predicted_test[i]<intervalSli[1])): #Slippers\n",
    "                pred_labels.append(0)\n",
    "            else: \n",
    "                pred_labels.append(1) #Other : if they fit in no confidence interval, we assume they are just \"others\"\n",
    "\n",
    "        pred_labels = np.asarray(pred_labels)\n",
    "\n",
    "        \n",
    "        \n",
    "        ## true labels\n",
    "        true_labels = []\n",
    "        for i in range(len(labels_test)):\n",
    "            if(labels_test[i] == 'Slippers'):\n",
    "                true_labels.append(0)\n",
    "            elif(labels_test[i] == 'Croissants'):\n",
    "                true_labels.append(2)\n",
    "            else : \n",
    "                true_labels.append(1)\n",
    "\n",
    "        true_labels = np.asarray(true_labels)\n",
    "        \n",
    "        \n",
    "        \n",
    "        #cm = confusion_matrix(y_true, y_pred, labels=labels)\n",
    "\n",
    "        \n",
    "        cm = confusion_matrix(true_labels, pred_labels, labels=[2, 0, 1])\n",
    "                \n",
    "        \n",
    "        ## critères de perf\n",
    "        \n",
    "        tp = 0\n",
    "        err = 0\n",
    "        \n",
    "        for i in range(len(cm)):\n",
    "            for j in range(len(cm)):\n",
    "                if i==j:\n",
    "                    tp = cm[i][j] + tp\n",
    "                else:\n",
    "                    err = err + cm[i][j]\n",
    "            \n",
    "        \n",
    "        acc_rate = tp /np.sum(cm)\n",
    "        err_rate = err/np.sum(cm)\n",
    "        \n",
    "        \n",
    "        res_acc = precision_recall_fscore_support(true_labels, pred_labels, \n",
    "                                beta=1.0, \n",
    "                                labels=[2,0,1], \n",
    "                                pos_label=1, \n",
    "                                average=None, \n",
    "                                warn_for=('precision', 'recall', 'f-score'), \n",
    "                                sample_weight=None)\n",
    "\n",
    "        precision = res_acc[0]\n",
    "        recall = res_acc[1]\n",
    "        f1 = res_acc[2]\n",
    "        gmm_res = []\n",
    "        gmm_res.append([index,[acc_rate,err_rate]])\n",
    "        for i in range(3):\n",
    "                gmm_res.append([precision[i],recall[i],f1[i]])\n",
    "        result.append(gmm_res)     \n",
    "        index+=1\n",
    "        \n",
    "    return result    "
   ]
  },
  {
   "cell_type": "code",
   "execution_count": 878,
   "metadata": {},
   "outputs": [],
   "source": [
    "resultGrid = intervalCGrid(grid)"
   ]
  },
  {
   "cell_type": "code",
   "execution_count": 911,
   "metadata": {},
   "outputs": [
    {
     "data": {
      "text/plain": [
       "{'g': 7, 'sigmaCr': 2.5000000000000004, 'sigmaSl': 2.5000000000000004}"
      ]
     },
     "execution_count": 911,
     "metadata": {},
     "output_type": "execute_result"
    }
   ],
   "source": [
    "accuracy = []\n",
    "averageRecall = []\n",
    "averageF1 = []\n",
    "averagePres = []\n",
    "for gmm in resultGrid:\n",
    "    ave = 0\n",
    "    avef1 = 0\n",
    "    aveP =  (gmm[1][0] + gmm[2][0] + gmm[3][0])/3\n",
    "    avef1 = (gmm[1][2] + gmm[2][2] + gmm[3][2])/3\n",
    "    ave = (gmm[1][1] + gmm[2][1] + gmm[3][1])/3\n",
    "    averageRecall.append(ave)\n",
    "    averagePres.append(aveP)\n",
    "    averageF1.append(avef1)\n",
    "    accuracy.append(gmm[0][1][0])  \n",
    "    \n",
    "bestAvF1Ind = averageF1.index(max(averageF1))\n",
    "list(ParameterGrid(grid))[bestAvF1Ind]"
   ]
  },
  {
   "cell_type": "markdown",
   "metadata": {},
   "source": [
    "### Meilleure Précision globale"
   ]
  },
  {
   "cell_type": "code",
   "execution_count": 913,
   "metadata": {
    "scrolled": true
   },
   "outputs": [
    {
     "data": {
      "text/plain": [
       "[[1159, [0.8245954692556634, 0.17540453074433657]],\n",
       " [0.7976973684210527, 0.7531055900621118, 0.7747603833865815],\n",
       " [0.9012715033657442, 0.9019461077844312, 0.9016086793864572],\n",
       " [0.7493449781659388, 0.772972972972973, 0.7609756097560975]]"
      ]
     },
     "execution_count": 913,
     "metadata": {},
     "output_type": "execute_result"
    }
   ],
   "source": [
    "bestPresInd = averagePres.index(max(averagePres))\n",
    "resultGrid[bestPresInd]"
   ]
  },
  {
   "cell_type": "code",
   "execution_count": 914,
   "metadata": {},
   "outputs": [
    {
     "data": {
      "text/plain": [
       "{'g': 9, 'sigmaCr': 2.2, 'sigmaSl': 2.4000000000000004}"
      ]
     },
     "execution_count": 914,
     "metadata": {},
     "output_type": "execute_result"
    }
   ],
   "source": [
    "list(ParameterGrid(grid))[bestPresInd]"
   ]
  },
  {
   "cell_type": "code",
   "execution_count": null,
   "metadata": {},
   "outputs": [],
   "source": [
    "bestAccInd = accuracy.index(max(average))\n",
    "resultGrid[bestAccInd]"
   ]
  },
  {
   "cell_type": "markdown",
   "metadata": {},
   "source": [
    "### Meilleur F1 global"
   ]
  },
  {
   "cell_type": "code",
   "execution_count": 910,
   "metadata": {},
   "outputs": [
    {
     "data": {
      "text/plain": [
       "{'g': 7, 'sigmaCr': 2.5000000000000004, 'sigmaSl': 2.5000000000000004}"
      ]
     },
     "execution_count": 910,
     "metadata": {},
     "output_type": "execute_result"
    }
   ],
   "source": [
    "list(ParameterGrid(grid))[bestAvF1Ind]"
   ]
  },
  {
   "cell_type": "markdown",
   "metadata": {},
   "source": [
    "### Meilleure Accuracy globale"
   ]
  },
  {
   "cell_type": "code",
   "execution_count": 882,
   "metadata": {},
   "outputs": [
    {
     "data": {
      "text/plain": [
       "{'g': 7, 'sigmaCr': 2.6000000000000005, 'sigmaSl': 3.200000000000001}"
      ]
     },
     "execution_count": 882,
     "metadata": {},
     "output_type": "execute_result"
    }
   ],
   "source": [
    "list(ParameterGrid(grid))[bestAccInd]"
   ]
  },
  {
   "cell_type": "code",
   "execution_count": 908,
   "metadata": {},
   "outputs": [
    {
     "data": {
      "image/png": "[encoded data removed]",
      "text/plain": [
       "<Figure size 720x720 with 2 Axes>"
      ]
     },
     "metadata": {
      "needs_background": "light"
     },
     "output_type": "display_data"
    }
   ],
   "source": [
    "#{'g': 7, 'sigmaCr': 2.6000000000000005, 'sigmaSl': 3.200000000000001}\n",
    "#best accuracy\n",
    "cm_analysis(true_labels, pred_labels, labels = [2,0,1])"
   ]
  },
  {
   "cell_type": "code",
   "execution_count": 883,
   "metadata": {},
   "outputs": [
    {
     "data": {
      "text/plain": [
       "[[777, [0.8288025889967637, 0.17119741100323624]],\n",
       " [0.7368421052631579, 0.8913043478260869, 0.8067463106113842],\n",
       " [0.8853868194842407, 0.9251497005988024, 0.9048316251830161],\n",
       " [0.8207650273224044, 0.6765765765765765, 0.7417283950617284]]"
      ]
     },
     "execution_count": 883,
     "metadata": {},
     "output_type": "execute_result"
    }
   ],
   "source": [
    "resultGrid[bestAccInd]"
   ]
  },
  {
   "cell_type": "code",
   "execution_count": 918,
   "metadata": {},
   "outputs": [],
   "source": [
    "#fonction pour afficher la matrice directement\n",
    "def displayConfusionFromGmm(predicted_test,labels_test,g,icCr,icSli):\n",
    "\n",
    "    # gmm = mixture.GaussianMixture(n_components=3, covariance_type='spherical')\n",
    "    gmm = mixture.GaussianMixture(n_components=g)\n",
    "    g = gmm.fit(predicted_test)\n",
    "\n",
    "    weights = g.weights_\n",
    "    means = []\n",
    "    means = g.means_\n",
    "    covars = g.covariances_\n",
    "    \n",
    "    meanSl = min(means)[0]\n",
    "    meanCr = max(means)[0]\n",
    "    \n",
    "    varSli = covars[np.where(means == min(means))][0][0]\n",
    "    varCr = covars[np.where(means == max(means))][0][0]\n",
    "\n",
    "    paramSli = [(meanSl), (math.sqrt(varSli))]\n",
    "    paramCr = [(meanCr), (math.sqrt(varCr))]\n",
    "\n",
    "    sl = math.sqrt(varSli)\n",
    "    sC = math.sqrt(varCr)\n",
    "\n",
    "\n",
    "    intervalSli = []\n",
    "    intervalSli.append(meanSl-icSli*sl)\n",
    "    intervalSli.append(meanSl+icSli*sl)\n",
    "    intervalCr = []\n",
    "    intervalCr.append(meanCr-icCr*sC)\n",
    "    intervalCr.append(meanCr+icCr*sC)\n",
    "\n",
    "    true_labels = []\n",
    "    for i in range(len(labels_test)):\n",
    "        if(labels_test[i] == 'Slippers'):\n",
    "            true_labels.append(0)\n",
    "        elif(labels_test[i] == 'Croissants'):\n",
    "            true_labels.append(2)\n",
    "        else : \n",
    "            true_labels.append(1)\n",
    "\n",
    "    true_labels = np.asarray(true_labels)\n",
    "\n",
    "    pred_labels = []\n",
    "\n",
    "    for k in range(len(predicted_test)):\n",
    "        if((predicted_test[k]>intervalCr[0])): #Croissants\n",
    "            pred_labels.append(2)\n",
    "        elif((predicted_test[k]<intervalSli[1])): #Slippers\n",
    "\n",
    "            pred_labels.append(0)\n",
    "        else: \n",
    "            pred_labels.append(1) #Other \n",
    "\n",
    "    pred_labels = np.asarray(pred_labels)\n",
    "    \n",
    "\n",
    "    return(cm_analysis(true_labels, pred_labels, labels = [2,0,1]))\n"
   ]
  },
  {
   "cell_type": "code",
   "execution_count": 921,
   "metadata": {},
   "outputs": [
    {
     "data": {
      "image/png": "[encoded data removed]",
      "text/plain": [
       "<Figure size 720x720 with 2 Axes>"
      ]
     },
     "metadata": {
      "needs_background": "light"
     },
     "output_type": "display_data"
    }
   ],
   "source": [
    "displayConfusionFromGmm(predicted_test,labels_test,8,2.3,2.5)"
   ]
  },
  {
   "cell_type": "code",
   "execution_count": null,
   "metadata": {},
   "outputs": [],
   "source": []
  },
  {
   "cell_type": "code",
   "execution_count": null,
   "metadata": {},
   "outputs": [],
   "source": []
  }
 ],
 "metadata": {
  "kernelspec": {
   "display_name": "Python 3",
   "language": "python",
   "name": "python3"
  },
  "language_info": {
   "codemirror_mode": {
    "name": "ipython",
    "version": 3
   },
   "file_extension": ".py",
   "mimetype": "text/x-python",
   "name": "python",
   "nbconvert_exporter": "python",
   "pygments_lexer": "ipython3",
   "version": "3.8.3"
  }
 },
 "nbformat": 4,
 "nbformat_minor": 2
}
